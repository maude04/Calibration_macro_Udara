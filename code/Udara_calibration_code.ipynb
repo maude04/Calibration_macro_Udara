{
 "cells": [
  {
   "cell_type": "markdown",
   "metadata": {},
   "source": [
    "# Udara Peiris' calibration"
   ]
  },
  {
   "cell_type": "markdown",
   "metadata": {},
   "source": [
    "## Packages"
   ]
  },
  {
   "cell_type": "code",
   "execution_count": 1,
   "metadata": {},
   "outputs": [],
   "source": [
    "import requests\n",
    "import pandas as pd\n",
    "import os\n",
    "import numpy as np\n",
    "\n",
    "from scipy.optimize import fsolve\n",
    "import matplotlib.pyplot as plt"
   ]
  },
  {
   "cell_type": "markdown",
   "metadata": {},
   "source": [
    "## Path and working directory"
   ]
  },
  {
   "cell_type": "code",
   "execution_count": 2,
   "metadata": {},
   "outputs": [
    {
     "name": "stdout",
     "output_type": "stream",
     "text": [
      "c:\\Users\\Maude\\OneDrive\\Documents\\etudes\\UZH\\PhD\\2nd year\\first semester\\calibration in macroeconomics\\project\\Udara\\data\n"
     ]
    }
   ],
   "source": [
    "ROOT = os.path.dirname(os.getcwd())\n",
    "\n",
    "PATH_DATA = os.path.join(ROOT, 'data')\n",
    "\n",
    "print(PATH_DATA)"
   ]
  },
  {
   "cell_type": "markdown",
   "metadata": {},
   "source": [
    "## External estimation of parameters"
   ]
  },
  {
   "cell_type": "markdown",
   "metadata": {},
   "source": [
    "### GDP growth"
   ]
  },
  {
   "cell_type": "markdown",
   "metadata": {},
   "source": [
    "5-year GDP growth based on annual GDP per capita in Argentina from the World Bank"
   ]
  },
  {
   "cell_type": "code",
   "execution_count": 3,
   "metadata": {},
   "outputs": [
    {
     "name": "stdout",
     "output_type": "stream",
     "text": [
      "the 25th percentile of the 5 year GDP growth between 1988 and 2001: 0.047384516851069064\n",
      "the 75th percentile of the 5 year GDP growth between 1988 and 2001: 0.6934000884280214\n"
     ]
    }
   ],
   "source": [
    "# open excel file\n",
    "\n",
    "df_GDP = pd.read_excel(os.path.join(PATH_DATA, 'GDP_per_capita - Argentina - WB.xlsx'))\n",
    "\n",
    "#clean database\n",
    "\n",
    "## delete the last 5 rows because only NaN values\n",
    "df_GDP = df_GDP.iloc[:-5]\n",
    "\n",
    "## delete the columns from 1960 to 1982\n",
    "columns_to_drop = [f\"{year} [YR{year}]\" for year in range(1960, 1983)]\n",
    "df_GDP = df_GDP.drop(columns=columns_to_drop)\n",
    "\n",
    "## convert from wide format to long format\n",
    "df_long = pd.melt(df_GDP, id_vars=['Country Name', 'Series Name'], var_name='Year', value_name='Value')\n",
    "\n",
    "## delete the first three columns because useless information as only one country and one variable\n",
    "df_long = df_long.drop(columns=['Country Name', 'Series Name'])\n",
    "\n",
    "## delete the first two rows because useless information as only one country and one variable\n",
    "df_long = df_long.iloc[2:]\n",
    "\n",
    "## rename the column 'Value' to 'GDP per capita'\n",
    "df_long = df_long.rename(columns={'Value': 'GDP per capita'})\n",
    "\n",
    "## change the format of the 'Year' variable\n",
    "df_long['Year'] = df_long['Year'].str.extract(r'(\\d{4})').astype(int)\n",
    "\n",
    "## create the 'GDP_growth_5' variable\n",
    "df_long['GDP_growth_5'] = (df_long['GDP per capita'] - df_long['GDP per capita'].shift(5)) / df_long['GDP per capita'].shift(5)\n",
    "\n",
    "# compute the 25th and 75th percentiles of the 'GDP_growth_5' variable between 1988 and 2001\n",
    "## Filter the DataFrame for the years between 1988 and 2001\n",
    "df_filtered = df_long[(df_long['Year'] >= 1988) & (df_long['Year'] <= 2001)]\n",
    "\n",
    "## Create a vector with the GDP_growth_5 values\n",
    "gdp_growth_5_vector = df_filtered['GDP_growth_5'].dropna().values\n",
    "\n",
    "## Calculate the 25th and 75th percentiles\n",
    "percentile_25 = np.percentile(gdp_growth_5_vector, 25)\n",
    "percentile_75 = np.percentile(gdp_growth_5_vector, 75)\n",
    "\n",
    "# Print the percentiles\n",
    "print(f\"the 25th percentile of the 5 year GDP growth between 1988 and 2001: {percentile_25}\")\n",
    "print(f\"the 75th percentile of the 5 year GDP growth between 1988 and 2001: {percentile_75}\")\n",
    "\n"
   ]
  },
  {
   "cell_type": "markdown",
   "metadata": {},
   "source": [
    "## Calibration: Internal Estimation of Parameter"
   ]
  },
  {
   "cell_type": "markdown",
   "metadata": {},
   "source": [
    "I will calibrate the bargaining power of the sovereign θ\n"
   ]
  },
  {
   "cell_type": "code",
   "execution_count": 4,
   "metadata": {},
   "outputs": [],
   "source": [
    "# Initialization of external parameters\n",
    "   \n",
    "beta = 0.82                      # time discount factor\n",
    "sigma = 2                        # risk aversion coefficient\n",
    "g_l = percentile_25/100          # growth rate of the low state\n",
    "g_h = percentile_75/100          # growth rate of the high state\n",
    "y_0 = 1                          # output in time 0\n",
    "y_l = 1+g_l                      # output of the low state\n",
    "y_h = 1+g_h                      # output of the high state\n",
    "kappa = 0.02                     # loss of output if default"
   ]
  },
  {
   "cell_type": "code",
   "execution_count": 5,
   "metadata": {},
   "outputs": [],
   "source": [
    "# Creation of grid for the believed haircut and for the bargaining power\n",
    "\n",
    "delta_b = np.linspace(0, 1, 11) # to change later for 101 instead of 11\n",
    "theta = np.linspace(0, 1, 11)"
   ]
  },
  {
   "cell_type": "markdown",
   "metadata": {},
   "source": [
    "### Solving Household Problem"
   ]
  },
  {
   "cell_type": "code",
   "execution_count": 6,
   "metadata": {},
   "outputs": [],
   "source": [
    "# price in time 0, q_0\n",
    "q_0 = beta*(1-delta_b/2)"
   ]
  },
  {
   "cell_type": "code",
   "execution_count": 7,
   "metadata": {},
   "outputs": [
    {
     "data": {
      "text/plain": [
       "0.82"
      ]
     },
     "execution_count": 7,
     "metadata": {},
     "output_type": "execute_result"
    }
   ],
   "source": [
    "# price in time 1, q_1\n",
    "q_1 = beta\n",
    "q_1"
   ]
  },
  {
   "cell_type": "code",
   "execution_count": 11,
   "metadata": {},
   "outputs": [
    {
     "data": {
      "image/png": "[encoded data removed]",
      "text/plain": [
       "<Figure size 1000x600 with 1 Axes>"
      ]
     },
     "metadata": {},
     "output_type": "display_data"
    }
   ],
   "source": [
    "# solve for b_0\n",
    "\n",
    "def HH_foc_b0(b_0, delta_b, q_0):\n",
    "    LHS = (2-delta_b)*(y_0 + q_0*b_0 )**(-sigma)\n",
    "    RHS_1 = (1-delta_b)*(y_l + beta*(1-delta_b)/(1+beta)*b_0 - (1-delta_b)*b_0)**(-sigma)\n",
    "    RHS_2 = (y_h-b_0/(1+beta))**(-sigma)\n",
    "    return LHS - RHS_1 - RHS_2\n",
    "\n",
    "# Initial guess for the root\n",
    "initial_guess = 0.5\n",
    "\n",
    "# Vectorized function to solve for the root for each combination of delta_b and q_0\n",
    "def solve_for_roots(delta_b, q_0, initial_guess):\n",
    "    # Define a wrapper function for fsolve that only takes b_0 as input\n",
    "    def wrapper(delta_b, q_0):\n",
    "        return fsolve(HH_foc_b0, initial_guess, args=(delta_b, q_0))[0]\n",
    "    \n",
    "    # Apply the wrapper function to each combination of delta_b and q_0\n",
    "    b_0 = np.array([wrapper(delta_b, q_0) for delta_b, q_0 in zip(delta_b, q_0)])\n",
    "    return b_0\n",
    "\n",
    "# Solve for the roots\n",
    "b_0 = solve_for_roots(delta_b, q_0, initial_guess)\n",
    "b_0\n",
    "\n",
    "# Plot b_0 as a function of delta_b\n",
    "plt.figure(figsize=(10, 6))\n",
    "plt.plot(delta_b, b_0, marker='o', linestyle='-', color='b')\n",
    "plt.xlabel('delta_b')\n",
    "plt.ylabel('b_0')\n",
    "plt.title('b_0 as a function of delta_b')\n",
    "plt.grid(True)\n",
    "plt.show()\n",
    "\n",
    "    \n"
   ]
  },
  {
   "cell_type": "code",
   "execution_count": 13,
   "metadata": {},
   "outputs": [
    {
     "data": {
      "text/plain": [
       "array([1.00220849, 1.0023082 , 1.00241254, 1.00252019, 1.00262889,\n",
       "       1.00273513, 1.00283364, 1.00291693, 1.00297494, 1.0029951 ,\n",
       "       1.00296309])"
      ]
     },
     "execution_count": 13,
     "metadata": {},
     "output_type": "execute_result"
    }
   ],
   "source": [
    "# consumption in time 0, c_0\n",
    "\n",
    "c_0 = y_0 + q_0*b_0\n",
    "c_0"
   ]
  },
  {
   "cell_type": "markdown",
   "metadata": {},
   "source": [
    "### Solving Nash Bargaining"
   ]
  },
  {
   "cell_type": "code",
   "execution_count": 16,
   "metadata": {},
   "outputs": [
    {
     "data": {
      "text/plain": [
       "-0.5"
      ]
     },
     "execution_count": 16,
     "metadata": {},
     "output_type": "execute_result"
    }
   ],
   "source": [
    "# utility function\n",
    "\n",
    "def utility(c):\n",
    "    return c**(1-sigma)/(1-sigma)\n",
    "\n"
   ]
  },
  {
   "cell_type": "code",
   "execution_count": 54,
   "metadata": {},
   "outputs": [
    {
     "data": {
      "text/plain": [
       "array([[10, 10, 10, 10, 10, 10, 10, 10, 10, 10, 10],\n",
       "       [10, 10, 10, 10, 10, 10, 10, 10, 10, 10, 10],\n",
       "       [10, 10, 10, 10, 10, 10, 10, 10, 10, 10, 10],\n",
       "       [10, 10, 10, 10, 10, 10, 10, 10, 10, 10, 10],\n",
       "       [10, 10, 10, 10, 10, 10, 10, 10, 10, 10, 10],\n",
       "       [10, 10, 10, 10, 10, 10, 10, 10, 10, 10, 10],\n",
       "       [10, 10, 10, 10, 10, 10, 10, 10, 10, 10, 10],\n",
       "       [10, 10, 10, 10, 10, 10, 10, 10, 10, 10, 10],\n",
       "       [10, 10, 10, 10, 10, 10, 10, 10, 10, 10, 10],\n",
       "       [10, 10, 10, 10, 10, 10, 10, 10, 10, 10, 10],\n",
       "       [10, 10, 10, 10, 10, 10, 10, 10, 10, 10, 10]])"
      ]
     },
     "execution_count": 54,
     "metadata": {},
     "output_type": "execute_result"
    }
   ],
   "source": [
    "# omega function\n",
    "\n",
    "def omega(delta_l, theta, b_0):\n",
    "    HS = ((1+beta)*utility(y_l - (1-delta_l)/(1+beta)*b_0)-utility(y_l)-beta*utility((1-kappa)*y_l))**theta\n",
    "    FS = (b_0*(1-delta_l))**(1-theta)\n",
    "    return HS*FS\n",
    "\n",
    "# grid for delta_l and theta\n",
    "delta_l = np.linspace(0, 1, 11)\n",
    "theta_b = np.linspace(0, 1, 11)\n",
    "\n",
    "#create a meshgrid for delta_l and theta\n",
    "delta_L, theta_B, B_0 = np.meshgrid(delta_l, theta_b, b_0)\n",
    "\n",
    "# matrix for omega\n",
    "m_omega = omega(delta_L, theta_B, B_0)\n",
    "\n",
    "# Find the highest value for each combination of theta_B and B_0\n",
    "max_indices = np.argmax(m_omega, axis=0)\n",
    "\n",
    "max_indices"
   ]
  }
 ],
 "metadata": {
  "kernelspec": {
   "display_name": "cali_macro",
   "language": "python",
   "name": "python3"
  },
  "language_info": {
   "codemirror_mode": {
    "name": "ipython",
    "version": 3
   },
   "file_extension": ".py",
   "mimetype": "text/x-python",
   "name": "python",
   "nbconvert_exporter": "python",
   "pygments_lexer": "ipython3",
   "version": "3.12.7"
  }
 },
 "nbformat": 4,
 "nbformat_minor": 2
}
