{
 "cells": [
  {
   "cell_type": "markdown",
   "metadata": {},
   "source": [
    "# Udara Peiris' calibration"
   ]
  },
  {
   "cell_type": "markdown",
   "metadata": {},
   "source": [
    "## Packages"
   ]
  },
  {
   "cell_type": "code",
   "execution_count": 1,
   "metadata": {},
   "outputs": [],
   "source": [
    "import requests\n",
    "import pandas as pd\n",
    "import os\n",
    "import numpy as np"
   ]
  },
  {
   "cell_type": "markdown",
   "metadata": {},
   "source": [
    "## Path and working directory"
   ]
  },
  {
   "cell_type": "code",
   "execution_count": 2,
   "metadata": {},
   "outputs": [
    {
     "name": "stdout",
     "output_type": "stream",
     "text": [
      "c:\\Users\\Maude\\OneDrive\\Documents\\etudes\\UZH\\PhD\\2nd year\\first semester\\calibration in macroeconomics\\project\\Udara\\data\n"
     ]
    }
   ],
   "source": [
    "ROOT = os.path.dirname(os.getcwd())\n",
    "\n",
    "PATH_DATA = os.path.join(ROOT, 'data')\n",
    "\n",
    "print(PATH_DATA)"
   ]
  },
  {
   "cell_type": "markdown",
   "metadata": {},
   "source": [
    "## External estimation of parameters"
   ]
  },
  {
   "cell_type": "markdown",
   "metadata": {},
   "source": [
    "### GDP growth"
   ]
  },
  {
   "cell_type": "markdown",
   "metadata": {},
   "source": [
    "5-year GDP growth based on annual GDP per capita in Argentina from the World Bank"
   ]
  },
  {
   "cell_type": "code",
   "execution_count": 5,
   "metadata": {},
   "outputs": [
    {
     "name": "stdout",
     "output_type": "stream",
     "text": [
      "the 25th percentile of the 5 year GDP growth between 1988 and 2001: 0.047384516851069064\n",
      "the 75th percentile of the 5 year GDP growth between 1988 and 2001: 0.6934000884280214\n"
     ]
    }
   ],
   "source": [
    "# open excel file\n",
    "\n",
    "df_GDP = pd.read_excel(os.path.join(PATH_DATA, 'GDP_per_capita - Argentina - WB.xlsx'))\n",
    "\n",
    "#clean database\n",
    "\n",
    "## delete the last 5 rows because only NaN values\n",
    "df_GDP = df_GDP.iloc[:-5]\n",
    "\n",
    "## delete the columns from 1960 to 1982\n",
    "columns_to_drop = [f\"{year} [YR{year}]\" for year in range(1960, 1983)]\n",
    "df_GDP = df_GDP.drop(columns=columns_to_drop)\n",
    "\n",
    "## convert from wide format to long format\n",
    "df_long = pd.melt(df_GDP, id_vars=['Country Name', 'Series Name'], var_name='Year', value_name='Value')\n",
    "\n",
    "## delete the first three columns because useless information as only one country and one variable\n",
    "df_long = df_long.drop(columns=['Country Name', 'Series Name'])\n",
    "\n",
    "## delete the first two rows because useless information as only one country and one variable\n",
    "df_long = df_long.iloc[2:]\n",
    "\n",
    "## rename the column 'Value' to 'GDP per capita'\n",
    "df_long = df_long.rename(columns={'Value': 'GDP per capita'})\n",
    "\n",
    "## change the format of the 'Year' variable\n",
    "df_long['Year'] = df_long['Year'].str.extract(r'(\\d{4})').astype(int)\n",
    "\n",
    "## create the 'GDP_growth_5' variable\n",
    "df_long['GDP_growth_5'] = (df_long['GDP per capita'] - df_long['GDP per capita'].shift(5)) / df_long['GDP per capita'].shift(5)\n",
    "\n",
    "# compute the 25th and 75th percentiles of the 'GDP_growth_5' variable between 1988 and 2001\n",
    "## Filter the DataFrame for the years between 1988 and 2001\n",
    "df_filtered = df_long[(df_long['Year'] >= 1988) & (df_long['Year'] <= 2001)]\n",
    "\n",
    "## Create a vector with the GDP_growth_5 values\n",
    "gdp_growth_5_vector = df_filtered['GDP_growth_5'].dropna().values\n",
    "\n",
    "## Calculate the 25th and 75th percentiles\n",
    "percentile_25 = np.percentile(gdp_growth_5_vector, 25)\n",
    "percentile_75 = np.percentile(gdp_growth_5_vector, 75)\n",
    "\n",
    "# Print the percentiles\n",
    "print(f\"the 25th percentile of the 5 year GDP growth between 1988 and 2001: {percentile_25}\")\n",
    "print(f\"the 75th percentile of the 5 year GDP growth between 1988 and 2001: {percentile_75}\")\n",
    "\n"
   ]
  }
 ],
 "metadata": {
  "kernelspec": {
   "display_name": "cali_macro",
   "language": "python",
   "name": "python3"
  },
  "language_info": {
   "codemirror_mode": {
    "name": "ipython",
    "version": 3
   },
   "file_extension": ".py",
   "mimetype": "text/x-python",
   "name": "python",
   "nbconvert_exporter": "python",
   "pygments_lexer": "ipython3",
   "version": "3.12.7"
  }
 },
 "nbformat": 4,
 "nbformat_minor": 2
}
