{
 "cells": [
  {
   "cell_type": "markdown",
   "metadata": {},
   "source": [
    "# Udara Peiris' calibration"
   ]
  },
  {
   "cell_type": "markdown",
   "metadata": {},
   "source": [
    "## Packages"
   ]
  },
  {
   "cell_type": "code",
   "execution_count": 184,
   "metadata": {},
   "outputs": [],
   "source": [
    "import requests\n",
    "import pandas as pd\n",
    "import xlrd\n",
    "import os\n",
    "import numpy as np\n",
    "\n",
    "from scipy.optimize import fsolve\n",
    "from scipy.stats import percentileofscore\n",
    "import matplotlib.pyplot as plt"
   ]
  },
  {
   "cell_type": "markdown",
   "metadata": {},
   "source": [
    "## Path and working directory"
   ]
  },
  {
   "cell_type": "code",
   "execution_count": 101,
   "metadata": {},
   "outputs": [
    {
     "name": "stdout",
     "output_type": "stream",
     "text": [
      "c:\\Users\\Maude\\OneDrive\\Documents\\etudes\\UZH\\PhD\\2nd year\\first semester\\calibration in macroeconomics\\project\\Udara\\data\n"
     ]
    }
   ],
   "source": [
    "ROOT = os.path.dirname(os.getcwd())\n",
    "\n",
    "PATH_DATA = os.path.join(ROOT, 'data')\n",
    "\n",
    "print(PATH_DATA)"
   ]
  },
  {
   "cell_type": "markdown",
   "metadata": {},
   "source": [
    "## External estimation of parameters"
   ]
  },
  {
   "cell_type": "markdown",
   "metadata": {},
   "source": [
    "### GDP growth"
   ]
  },
  {
   "cell_type": "markdown",
   "metadata": {},
   "source": [
    "5-year GDP growth based on annual GDP per capita in Argentina from the World Bank"
   ]
  },
  {
   "cell_type": "code",
   "execution_count": 102,
   "metadata": {},
   "outputs": [
    {
     "name": "stdout",
     "output_type": "stream",
     "text": [
      "the 25th percentile of the 5 year GDP growth between 1988 and 2001: 0.047384516851069064\n",
      "the 75th percentile of the 5 year GDP growth between 1988 and 2001: 0.6934000884280214\n"
     ]
    }
   ],
   "source": [
    "# open excel file\n",
    "\n",
    "df_GDP = pd.read_excel(os.path.join(PATH_DATA, 'GDP_per_capita - Argentina - WB.xlsx'))\n",
    "\n",
    "#clean database\n",
    "\n",
    "## delete the last 5 rows because only NaN values\n",
    "df_GDP = df_GDP.iloc[:-5]\n",
    "\n",
    "## delete the columns from 1960 to 1982\n",
    "columns_to_drop = [f\"{year} [YR{year}]\" for year in range(1960, 1983)]\n",
    "df_GDP = df_GDP.drop(columns=columns_to_drop)\n",
    "\n",
    "## convert from wide format to long format\n",
    "df_long = pd.melt(df_GDP, id_vars=['Country Name', 'Series Name'], var_name='Year', value_name='Value')\n",
    "\n",
    "## delete the first three columns because useless information as only one country and one variable\n",
    "df_long = df_long.drop(columns=['Country Name', 'Series Name'])\n",
    "\n",
    "## delete the first two rows because useless information as only one country and one variable\n",
    "df_long = df_long.iloc[2:]\n",
    "\n",
    "## rename the column 'Value' to 'GDP per capita'\n",
    "df_long = df_long.rename(columns={'Value': 'GDP per capita'})\n",
    "\n",
    "## change the format of the 'Year' variable\n",
    "df_long['Year'] = df_long['Year'].str.extract(r'(\\d{4})').astype(int)\n",
    "\n",
    "## create the 'GDP_growth_5' variable\n",
    "df_long['GDP_growth_5'] = (df_long['GDP per capita'] - df_long['GDP per capita'].shift(5)) / df_long['GDP per capita'].shift(5)\n",
    "\n",
    "# compute the 25th and 75th percentiles of the 'GDP_growth_5' variable between 1988 and 2001\n",
    "## Filter the DataFrame for the years between 1988 and 2001\n",
    "df_filtered = df_long[(df_long['Year'] >= 1988) & (df_long['Year'] <= 2001)]\n",
    "\n",
    "## Create a vector with the GDP_growth_5 values\n",
    "gdp_growth_5_vector = df_filtered['GDP_growth_5'].dropna().values\n",
    "\n",
    "## Calculate the 25th and 75th percentiles\n",
    "percentile_25 = np.percentile(gdp_growth_5_vector, 25)\n",
    "percentile_75 = np.percentile(gdp_growth_5_vector, 75)\n",
    "\n",
    "# Print the percentiles\n",
    "print(f\"the 25th percentile of the 5 year GDP growth between 1988 and 2001: {percentile_25}\")\n",
    "print(f\"the 75th percentile of the 5 year GDP growth between 1988 and 2001: {percentile_75}\")\n",
    "\n"
   ]
  },
  {
   "cell_type": "markdown",
   "metadata": {},
   "source": [
    "GDP shock based on world GDP per capita growth"
   ]
  },
  {
   "cell_type": "code",
   "execution_count": 234,
   "metadata": {},
   "outputs": [
    {
     "name": "stdout",
     "output_type": "stream",
     "text": [
      "count    250.000000\n",
      "mean       2.808581\n",
      "std        3.097591\n",
      "min       -8.080796\n",
      "25%        1.143330\n",
      "50%        2.439735\n",
      "75%        3.975953\n",
      "max       22.731930\n",
      "Name: average, dtype: float64\n"
     ]
    },
    {
     "data": {
      "text/plain": [
       "np.float64(6.002092843275176)"
      ]
     },
     "execution_count": 234,
     "metadata": {},
     "output_type": "execute_result"
    }
   ],
   "source": [
    "df_growth = pd.read_excel(os.path.join(PATH_DATA, 'GDP_growth - world - WB.xls'), sheet_name=0, header=0)\n",
    "\n",
    "# delete the first two rows\n",
    "df_growth = df_growth.iloc[2:]\n",
    "\n",
    "# Define the columns to keep\n",
    "columns_to_keep = ['Country Name', 'Country Code', 'Indicator Name', \"2001\", \"2002\", \"2003\", \"2004\", \"2005\"]\n",
    "\n",
    "df_growth=df_growth[columns_to_keep]\n",
    "\n",
    "# Create a new column 'average' with the average of columns 2001, 2002, 2003, 2004, 2005 for each row\n",
    "df_growth['average'] = df_growth[['2001', '2002', '2003', '2004', '2005']].mean(axis=1)\n",
    "\n",
    "# Handle NaN values by dropping rows with NaN in the 'average' column\n",
    "df_growth = df_growth.dropna(subset=['average'])\n",
    "\n",
    "# Print basic statistics of the 'average' column\n",
    "print(df_growth['average'].describe())\n",
    "\n",
    "# Find the percentile rank of the Argentinian average GDP growth\n",
    "average_ARG = df_growth.loc[df_growth['Country Code'] == \"ARG\", 'average'].values\n",
    "percentile_rank = percentileofscore(df_growth['average'], average_ARG)\n",
    "\n",
    "# Calculate the 90th percentile of the 'average' column\n",
    "percentile_90 = np.percentile(df_growth['average'], 89)\n",
    "\n",
    "percentile_90"
   ]
  },
  {
   "cell_type": "code",
   "execution_count": 178,
   "metadata": {},
   "outputs": [
    {
     "name": "stdout",
     "output_type": "stream",
     "text": [
      "count    202.000000\n",
      "mean       2.759449\n",
      "std        3.349682\n",
      "min       -8.080796\n",
      "25%        0.765350\n",
      "50%        2.418697\n",
      "75%        3.852071\n",
      "max       22.731930\n",
      "Name: average, dtype: float64\n"
     ]
    }
   ],
   "source": [
    "df_classification = pd.read_excel(os.path.join(PATH_DATA, 'World_Bank_classification.xlsx'), sheet_name=0, header=0)\n",
    "\n",
    "#keep only the columns \"Code\" and \"Income group\"\n",
    "df_classification = df_classification[['Code', 'Income group']]\n",
    "\n",
    "# Merge the df_growth and df_classification DataFrames\n",
    "df_merged = pd.merge(df_growth, df_classification, left_on='Country Code', right_on='Code')\n",
    "\n",
    "# keep only if income group is \"Low income\" or \"Lower middle income\"\n",
    "df_merged = df_merged[(df_merged['Income group'] == 'Low income') | (df_merged['Income group'] == 'Lower middle income') | (df_merged['Income group'] == 'Upper middle income')| (df_merged['Income group'] == 'High income')]\n",
    "\n",
    "print(df_merged['average'].describe())"
   ]
  },
  {
   "cell_type": "markdown",
   "metadata": {},
   "source": [
    "## Calibration: Internal Estimation of Parameter"
   ]
  },
  {
   "cell_type": "markdown",
   "metadata": {},
   "source": [
    "I will calibrate the bargaining power of the sovereign θ\n"
   ]
  },
  {
   "cell_type": "code",
   "execution_count": 235,
   "metadata": {},
   "outputs": [],
   "source": [
    "# Initialization of external parameters\n",
    "   \n",
    "beta = 0.82                      # time discount factor\n",
    "sigma = 2                        # risk aversion coefficient\n",
    "g_l = percentile_25/100          # growth rate of the low state\n",
    "g_h = percentile_75/100          # growth rate of the high state (should take evidence from countries doing well)\n",
    "y_0 = 1                          # output in time 0\n",
    "y_l = 1+0                     # output of the low state\n",
    "y_h = 1+0.34                   # output of the high state\n",
    "kappa = 0.32                     # loss of output (quarterly 2%)"
   ]
  },
  {
   "cell_type": "code",
   "execution_count": 236,
   "metadata": {},
   "outputs": [],
   "source": [
    "# Creation of grid for the believed haircut and for the bargaining power\n",
    "\n",
    "delta_b = np.linspace(0, 1, 11) # to change later for 101 instead of 11\n",
    "theta = np.linspace(0, 1, 11)"
   ]
  },
  {
   "cell_type": "markdown",
   "metadata": {},
   "source": [
    "### Solving Household Problem"
   ]
  },
  {
   "cell_type": "code",
   "execution_count": 237,
   "metadata": {},
   "outputs": [],
   "source": [
    "# price in time 0, q_0\n",
    "q_0 = beta*(1-delta_b/2)"
   ]
  },
  {
   "cell_type": "code",
   "execution_count": 238,
   "metadata": {},
   "outputs": [
    {
     "data": {
      "text/plain": [
       "0.82"
      ]
     },
     "execution_count": 238,
     "metadata": {},
     "output_type": "execute_result"
    }
   ],
   "source": [
    "# price in time 1, q_1\n",
    "q_1 = beta\n",
    "q_1"
   ]
  },
  {
   "cell_type": "code",
   "execution_count": 239,
   "metadata": {},
   "outputs": [
    {
     "data": {
      "image/png": "[encoded data removed]",
      "text/plain": [
       "<Figure size 1000x600 with 1 Axes>"
      ]
     },
     "metadata": {},
     "output_type": "display_data"
    }
   ],
   "source": [
    "# solve for b_0\n",
    "\n",
    "def HH_foc_b0(b_0, delta_b, q_0):\n",
    "    LHS = (2-delta_b)*(y_0 + q_0*b_0 )**(-sigma)\n",
    "    RHS_1 = (1-delta_b)*(y_l + beta*(1-delta_b)/(1+beta)*b_0 - (1-delta_b)*b_0)**(-sigma)\n",
    "    RHS_2 = (y_h-b_0/(1+beta))**(-sigma)\n",
    "    return LHS - RHS_1 - RHS_2\n",
    "\n",
    "# Initial guess for the root\n",
    "initial_guess = 0.5\n",
    "\n",
    "# Vectorized function to solve for the root for each combination of delta_b and q_0\n",
    "def solve_for_roots(delta_b, q_0, initial_guess):\n",
    "    # Define a wrapper function for fsolve that only takes b_0 as input\n",
    "    def wrapper(delta_b, q_0):\n",
    "        return fsolve(HH_foc_b0, initial_guess, args=(delta_b, q_0))[0]\n",
    "    \n",
    "    # Apply the wrapper function to each combination of delta_b and q_0\n",
    "    b_0 = np.array([wrapper(delta_b, q_0) for delta_b, q_0 in zip(delta_b, q_0)])\n",
    "    return b_0\n",
    "\n",
    "# Solve for the roots\n",
    "b_0 = solve_for_roots(delta_b, q_0, initial_guess)\n",
    "b_0\n",
    "\n",
    "# Plot b_0 as a function of delta_b\n",
    "plt.figure(figsize=(10, 6))\n",
    "plt.plot(delta_b, b_0, marker='o', linestyle='-', color='b')\n",
    "plt.xlabel('delta_b')\n",
    "plt.ylabel('b_0')\n",
    "plt.title('b_0 as a function of delta_b')\n",
    "plt.grid(True)\n",
    "plt.show()\n",
    "\n",
    "    \n"
   ]
  },
  {
   "cell_type": "code",
   "execution_count": 240,
   "metadata": {},
   "outputs": [
    {
     "data": {
      "text/plain": [
       "array([1.07886588, 1.08461336, 1.09102581, 1.09814334, 1.10595673,\n",
       "       1.11435816, 1.12306545, 1.13152724, 1.13885228, 1.14385359,\n",
       "       1.14529149])"
      ]
     },
     "execution_count": 240,
     "metadata": {},
     "output_type": "execute_result"
    }
   ],
   "source": [
    "# consumption in time 0, c_0\n",
    "\n",
    "c_0 = y_0 + q_0*b_0\n",
    "c_0"
   ]
  },
  {
   "cell_type": "markdown",
   "metadata": {},
   "source": [
    "### Solving Nash Bargaining"
   ]
  },
  {
   "cell_type": "code",
   "execution_count": 241,
   "metadata": {},
   "outputs": [
    {
     "data": {
      "text/plain": [
       "-2.0"
      ]
     },
     "execution_count": 241,
     "metadata": {},
     "output_type": "execute_result"
    }
   ],
   "source": [
    "# utility function\n",
    "\n",
    "def utility(c):\n",
    "    return c**(1-sigma)/(1-sigma)\n",
    "    #return np.log(c)\n",
    "\n",
    "utility(0.5)\n",
    "\n"
   ]
  },
  {
   "cell_type": "code",
   "execution_count": 242,
   "metadata": {},
   "outputs": [
    {
     "name": "stdout",
     "output_type": "stream",
     "text": [
      "[[0.  0.  0.  0.  0.  0.  0.  0.  0.  0.  0. ]\n",
      " [0.  0.  0.  0.  0.  0.  0.  0.  0.  0.  0. ]\n",
      " [0.  0.  0.  0.  0.  0.  0.  0.  0.1 0.  0. ]\n",
      " [0.  0.  0.  0.  0.  0.  0.  0.1 0.2 0.  0. ]\n",
      " [0.  0.  0.  0.  0.  0.  0.1 0.2 0.3 0.  0. ]\n",
      " [0.  0.  0.  0.  0.  0.1 0.2 0.3 0.4 0.  0. ]\n",
      " [0.  0.  0.  0.  0.2 0.3 0.4 0.4 0.5 0.  0. ]\n",
      " [0.  0.  0.2 0.3 0.4 0.4 0.5 0.6 0.6 0.  0. ]\n",
      " [0.3 0.3 0.4 0.5 0.6 0.6 0.7 0.7 0.7 0.  0. ]\n",
      " [0.6 0.7 0.7 0.7 0.8 0.8 0.8 0.8 0.9 0.  0. ]\n",
      " [1.  1.  1.  1.  1.  1.  1.  1.  1.  1.  1. ]]\n"
     ]
    },
    {
     "name": "stderr",
     "output_type": "stream",
     "text": [
      "C:\\Users\\Maude\\AppData\\Local\\Temp\\ipykernel_7460\\1641505282.py:4: RuntimeWarning: invalid value encountered in power\n",
      "  HS = ((1+beta)*utility(y_l - (1-delta_l)/(1+beta)*b_0)-utility(y_l)-beta*utility((1-kappa)*y_l))**theta\n"
     ]
    }
   ],
   "source": [
    "# omega function\n",
    "\n",
    "def omega(delta_l, theta, b_0):\n",
    "    HS = ((1+beta)*utility(y_l - (1-delta_l)/(1+beta)*b_0)-utility(y_l)-beta*utility((1-kappa)*y_l))**theta\n",
    "    FS = (b_0*(1-delta_l))**(1-theta)\n",
    "    return HS*FS\n",
    "\n",
    "# grid for delta_l and theta\n",
    "delta_l = np.linspace(0, 1, 11)\n",
    "theta_b = np.linspace(0, 1, 11)\n",
    "\n",
    "#create a meshgrid for delta_l and theta\n",
    "delta_L, theta_B, B_0 = np.meshgrid(delta_l, theta_b, b_0, indexing='ij')\n",
    "\n",
    "# matrix for omega\n",
    "m_omega = omega(delta_L, theta_B, B_0)\n",
    "\n",
    "# Find the highest value for each combination of theta_B and B_0\n",
    "\n",
    "max_indices = np.argmax(m_omega, axis=0) \n",
    "\n",
    "# Convert indices to corresponding delta_L values\n",
    "max_delta_L_values = delta_l[max_indices]\n",
    "\n",
    "print(max_delta_L_values)\n",
    "\n"
   ]
  },
  {
   "cell_type": "markdown",
   "metadata": {},
   "source": [
    "### Calibration of theta to target b_0/y_0"
   ]
  },
  {
   "cell_type": "code",
   "execution_count": 243,
   "metadata": {},
   "outputs": [
    {
     "data": {
      "text/plain": [
       "array([0. , 0. , 0. , 0. , 0. , 0. , 0. , 0. , 0.7, 0.7, 1. ])"
      ]
     },
     "execution_count": 243,
     "metadata": {},
     "output_type": "execute_result"
    }
   ],
   "source": [
    "# rationale expectation\n",
    "\n",
    "def delta_rational(m_max_delta_L_values, v_delta_l):\n",
    "    m_delta_l = np.tile(v_delta_l, (len(v_delta_l), 1))\n",
    "    m_diff=abs(m_max_delta_L_values-m_delta_l)\n",
    "    min_indices = np.argmin(m_diff, axis=1)\n",
    "    v_delta_r= v_delta_l[min_indices]\n",
    "    return v_delta_r, min_indices\n",
    "\n",
    "delta_rational(max_delta_L_values, delta_l)[0]"
   ]
  },
  {
   "cell_type": "code",
   "execution_count": 244,
   "metadata": {},
   "outputs": [
    {
     "data": {
      "text/plain": [
       "np.float64(37.118)"
      ]
     },
     "execution_count": 244,
     "metadata": {},
     "output_type": "execute_result"
    }
   ],
   "source": [
    "# target debt to GDP ratio, b_0/y_0\n",
    "\n",
    "## open excel file\n",
    "df = pd.read_excel(os.path.join(PATH_DATA, 'debt_to_GDP - Argentina - IMF.xls'), sheet_name=1)\n",
    "\n",
    "## Define the years to keep\n",
    "years_to_keep = [1996, 1997, 1998, 1999, 2000]\n",
    "\n",
    "## Filter the DataFrame to keep only the rows where Year is in the specified list\n",
    "df_0 = df[df['Year'].isin(years_to_keep)]\n",
    "df_0\n",
    "\n",
    "## Calculate the average of the 'debt_to_GDP' variable\n",
    "target_b_0_y_0 = df_0['debt_to_GDP'].mean()\n",
    "target_b_0_y_0\n"
   ]
  },
  {
   "cell_type": "code",
   "execution_count": 245,
   "metadata": {},
   "outputs": [
    {
     "data": {
      "text/plain": [
       "np.float64(0.35436948803115353)"
      ]
     },
     "execution_count": 245,
     "metadata": {},
     "output_type": "execute_result"
    }
   ],
   "source": [
    "#b_0/y_0 for each delta in delta_rational\n",
    "min_indices=delta_rational(max_delta_L_values, delta_l)[1]\n",
    "b_0[min_indices]\n",
    "\n",
    "#closest b_0/y_0 to target_b_0_y_0\n",
    "min_indices_target = np.argmin(abs(b_0[min_indices]-target_b_0_y_0))\n",
    "b_0[min_indices_target]\n"
   ]
  },
  {
   "cell_type": "code",
   "execution_count": 246,
   "metadata": {},
   "outputs": [
    {
     "name": "stdout",
     "output_type": "stream",
     "text": [
      "The target debt to GDP ratio is 37.118\n",
      "the calibrated debt to GDP ratio is 0.35436948803115353\n",
      "The rationale optimal haircut is 1.0\n",
      "The Nash bargaining power is 1.0\n"
     ]
    }
   ],
   "source": [
    "# Solution\n",
    "\n",
    "print(f\"The target debt to GDP ratio is {target_b_0_y_0}\")\n",
    "print(f\"the calibrated debt to GDP ratio is {b_0[min_indices_target]}\")\n",
    "print(f\"The rationale optimal haircut is {delta_l[min_indices_target]}\")\n",
    "print(f\"The Nash bargaining power is {theta_b[min_indices_target]}\")"
   ]
  }
 ],
 "metadata": {
  "kernelspec": {
   "display_name": "cali_macro",
   "language": "python",
   "name": "python3"
  },
  "language_info": {
   "codemirror_mode": {
    "name": "ipython",
    "version": 3
   },
   "file_extension": ".py",
   "mimetype": "text/x-python",
   "name": "python",
   "nbconvert_exporter": "python",
   "pygments_lexer": "ipython3",
   "version": "3.12.7"
  }
 },
 "nbformat": 4,
 "nbformat_minor": 2
}
