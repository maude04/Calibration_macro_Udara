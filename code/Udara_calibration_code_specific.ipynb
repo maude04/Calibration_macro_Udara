{
 "cells": [
  {
   "cell_type": "markdown",
   "metadata": {},
   "source": [
    "# Udara Peiris' calibration"
   ]
  },
  {
   "cell_type": "markdown",
   "metadata": {},
   "source": [
    "## Packages"
   ]
  },
  {
   "cell_type": "code",
   "execution_count": 38,
   "metadata": {},
   "outputs": [],
   "source": [
    "import requests\n",
    "import pandas as pd\n",
    "import xlrd\n",
    "import os\n",
    "import numpy as np\n",
    "\n",
    "from scipy.optimize import fsolve\n",
    "from scipy.stats import percentileofscore\n",
    "import matplotlib.pyplot as plt"
   ]
  },
  {
   "cell_type": "markdown",
   "metadata": {},
   "source": [
    "## Path and working directory"
   ]
  },
  {
   "cell_type": "code",
   "execution_count": 39,
   "metadata": {},
   "outputs": [
    {
     "name": "stdout",
     "output_type": "stream",
     "text": [
      "c:\\Users\\Maude\\OneDrive\\Documents\\etudes\\UZH\\PhD\\2nd year\\first semester\\calibration in macroeconomics\\project\\Udara\\data\n"
     ]
    }
   ],
   "source": [
    "ROOT = os.path.dirname(os.getcwd())\n",
    "\n",
    "PATH_DATA = os.path.join(ROOT, 'data')\n",
    "\n",
    "print(PATH_DATA)"
   ]
  },
  {
   "cell_type": "markdown",
   "metadata": {},
   "source": [
    "## External estimation of parameters"
   ]
  },
  {
   "cell_type": "markdown",
   "metadata": {},
   "source": [
    "### GDP growth"
   ]
  },
  {
   "cell_type": "markdown",
   "metadata": {},
   "source": [
    "5-year GDP growth based on annual GDP per capita in Argentina from the World Bank"
   ]
  },
  {
   "cell_type": "code",
   "execution_count": 40,
   "metadata": {},
   "outputs": [
    {
     "name": "stdout",
     "output_type": "stream",
     "text": [
      "the 25th percentile of the 5 year GDP growth between 1988 and 2001: 0.047384516851069064\n",
      "the 75th percentile of the 5 year GDP growth between 1988 and 2001: 0.6934000884280214\n"
     ]
    }
   ],
   "source": [
    "# open excel file\n",
    "\n",
    "df_GDP = pd.read_excel(os.path.join(PATH_DATA, 'GDP_per_capita - Argentina - WB.xlsx'))\n",
    "\n",
    "#clean database\n",
    "\n",
    "## delete the last 5 rows because only NaN values\n",
    "df_GDP = df_GDP.iloc[:-5]\n",
    "\n",
    "## delete the columns from 1960 to 1982\n",
    "columns_to_drop = [f\"{year} [YR{year}]\" for year in range(1960, 1983)]\n",
    "df_GDP = df_GDP.drop(columns=columns_to_drop)\n",
    "\n",
    "## convert from wide format to long format\n",
    "df_long = pd.melt(df_GDP, id_vars=['Country Name', 'Series Name'], var_name='Year', value_name='Value')\n",
    "\n",
    "## delete the first three columns because useless information as only one country and one variable\n",
    "df_long = df_long.drop(columns=['Country Name', 'Series Name'])\n",
    "\n",
    "## delete the first two rows because useless information as only one country and one variable\n",
    "df_long = df_long.iloc[2:]\n",
    "\n",
    "## rename the column 'Value' to 'GDP per capita'\n",
    "df_long = df_long.rename(columns={'Value': 'GDP per capita'})\n",
    "\n",
    "## change the format of the 'Year' variable\n",
    "df_long['Year'] = df_long['Year'].str.extract(r'(\\d{4})').astype(int)\n",
    "\n",
    "## create the 'GDP_growth_5' variable\n",
    "df_long['GDP_growth_5'] = (df_long['GDP per capita'] - df_long['GDP per capita'].shift(5)) / df_long['GDP per capita'].shift(5)\n",
    "\n",
    "# compute the 25th and 75th percentiles of the 'GDP_growth_5' variable between 1988 and 2001\n",
    "## Filter the DataFrame for the years between 1988 and 2001\n",
    "df_filtered = df_long[(df_long['Year'] >= 1988) & (df_long['Year'] <= 2001)]\n",
    "\n",
    "## Create a vector with the GDP_growth_5 values\n",
    "gdp_growth_5_vector = df_filtered['GDP_growth_5'].dropna().values\n",
    "\n",
    "## Calculate the 25th and 75th percentiles\n",
    "percentile_25 = np.percentile(gdp_growth_5_vector, 25)\n",
    "percentile_75 = np.percentile(gdp_growth_5_vector, 75)\n",
    "\n",
    "# Print the percentiles\n",
    "print(f\"the 25th percentile of the 5 year GDP growth between 1988 and 2001: {percentile_25}\")\n",
    "print(f\"the 75th percentile of the 5 year GDP growth between 1988 and 2001: {percentile_75}\")\n",
    "\n"
   ]
  },
  {
   "cell_type": "markdown",
   "metadata": {},
   "source": [
    "GDP shock based on world GDP per capita growth"
   ]
  },
  {
   "cell_type": "code",
   "execution_count": 41,
   "metadata": {},
   "outputs": [
    {
     "name": "stdout",
     "output_type": "stream",
     "text": [
      "count    250.000000\n",
      "mean       2.808581\n",
      "std        3.097591\n",
      "min       -8.080796\n",
      "25%        1.143330\n",
      "50%        2.439735\n",
      "75%        3.975953\n",
      "max       22.731930\n",
      "Name: average, dtype: float64\n"
     ]
    },
    {
     "data": {
      "text/plain": [
       "np.float64(6.002092843275176)"
      ]
     },
     "execution_count": 41,
     "metadata": {},
     "output_type": "execute_result"
    }
   ],
   "source": [
    "df_growth = pd.read_excel(os.path.join(PATH_DATA, 'GDP_growth - world - WB.xls'), sheet_name=0, header=0)\n",
    "\n",
    "# delete the first two rows\n",
    "df_growth = df_growth.iloc[2:]\n",
    "\n",
    "# Define the columns to keep\n",
    "columns_to_keep = ['Country Name', 'Country Code', 'Indicator Name', \"2001\", \"2002\", \"2003\", \"2004\", \"2005\"]\n",
    "\n",
    "df_growth=df_growth[columns_to_keep]\n",
    "\n",
    "# Create a new column 'average' with the average of columns 2001, 2002, 2003, 2004, 2005 for each row\n",
    "df_growth['average'] = df_growth[['2001', '2002', '2003', '2004', '2005']].mean(axis=1)\n",
    "\n",
    "# Handle NaN values by dropping rows with NaN in the 'average' column\n",
    "df_growth = df_growth.dropna(subset=['average'])\n",
    "\n",
    "# Print basic statistics of the 'average' column\n",
    "print(df_growth['average'].describe())\n",
    "\n",
    "# Find the percentile rank of the Argentinian average GDP growth\n",
    "average_ARG = df_growth.loc[df_growth['Country Code'] == \"ARG\", 'average'].values\n",
    "percentile_rank = percentileofscore(df_growth['average'], average_ARG)\n",
    "\n",
    "# Calculate the 90th percentile of the 'average' column\n",
    "percentile_90 = np.percentile(df_growth['average'], 89)\n",
    "\n",
    "percentile_90"
   ]
  },
  {
   "cell_type": "markdown",
   "metadata": {},
   "source": [
    "GDP shock based on upper middle income countries like Argentina"
   ]
  },
  {
   "cell_type": "code",
   "execution_count": 42,
   "metadata": {},
   "outputs": [
    {
     "name": "stdout",
     "output_type": "stream",
     "text": [
      "count    53.000000\n",
      "mean      3.889023\n",
      "std       4.096473\n",
      "min      -1.252327\n",
      "25%       1.458500\n",
      "50%       3.036128\n",
      "75%       4.634298\n",
      "max      22.731930\n",
      "Name: average, dtype: float64\n",
      "[18.86792453]\n"
     ]
    },
    {
     "data": {
      "text/plain": [
       "array([8.25336824])"
      ]
     },
     "execution_count": 42,
     "metadata": {},
     "output_type": "execute_result"
    }
   ],
   "source": [
    "df_classification = pd.read_excel(os.path.join(PATH_DATA, 'World_Bank_classification.xlsx'), sheet_name=0, header=0)\n",
    "\n",
    "#keep only the columns \"Code\" and \"Income group\"\n",
    "df_classification = df_classification[['Code', 'Income group']]\n",
    "\n",
    "# Merge the df_growth and df_classification DataFrames\n",
    "df_merged = pd.merge(df_growth, df_classification, left_on='Country Code', right_on='Code')\n",
    "\n",
    "# keep only if income group is \"Low income\" or \"Lower middle income\"\n",
    "df_merged = df_merged[(df_merged['Income group'] == 'Upper middle income')]\n",
    "\n",
    "print(df_merged['average'].describe())\n",
    "\n",
    "# Find the percentile rank of the Argentinian average GDP growth\n",
    "average_ARG = df_merged.loc[df_merged['Country Code'] == \"ARG\", 'average'].values\n",
    "percentile_rank = percentileofscore(df_merged['average'], average_ARG)\n",
    "\n",
    "print(percentile_rank)\n",
    "\n",
    "# Calculate the 90th percentile of the 'average' column\n",
    "growth_h = np.percentile(df_merged['average'], 100-percentile_rank/1.5)\n",
    "\n",
    "growth_h"
   ]
  },
  {
   "cell_type": "markdown",
   "metadata": {},
   "source": [
    "## Calibration: Internal Estimation of Parameter"
   ]
  },
  {
   "cell_type": "markdown",
   "metadata": {},
   "source": [
    "I will calibrate the bargaining power of the sovereign θ\n"
   ]
  },
  {
   "cell_type": "code",
   "execution_count": 43,
   "metadata": {},
   "outputs": [
    {
     "name": "stdout",
     "output_type": "stream",
     "text": [
      "[0.06242202] [0.48664437]\n"
     ]
    }
   ],
   "source": [
    "# Initialization of external parameters\n",
    "   \n",
    "beta = 0.82                      # time discount factor\n",
    "sigma = 2                        # risk aversion coefficient\n",
    "g_l = (1+average_ARG/100)**5-1   # growth rate of the low state\n",
    "g_h = (1+growth_h/100)**5-1      # growth rate of the high state (should take evidence from countries doing well)\n",
    "y_0 = 1                          # output in time 0\n",
    "y_l = 1+g_l                      # output of the low state\n",
    "y_h = 1+g_h                      # output of the high state\n",
    "kappa = 0.32                     # loss of output (quarterly 2%)\n",
    "\n",
    "print(g_l, g_h)"
   ]
  },
  {
   "cell_type": "code",
   "execution_count": 44,
   "metadata": {},
   "outputs": [],
   "source": [
    "# Creation of grid for the believed haircut and for the bargaining power\n",
    "\n",
    "delta_b = np.linspace(0, 1, 101) # to change later for 101 instead of 11\n",
    "theta = np.linspace(0, 1, 11)"
   ]
  },
  {
   "cell_type": "markdown",
   "metadata": {},
   "source": [
    "### Solving Household Problem"
   ]
  },
  {
   "cell_type": "code",
   "execution_count": 45,
   "metadata": {},
   "outputs": [
    {
     "data": {
      "text/plain": [
       "array([0.82  , 0.8159, 0.8118, 0.8077, 0.8036, 0.7995, 0.7954, 0.7913,\n",
       "       0.7872, 0.7831, 0.779 , 0.7749, 0.7708, 0.7667, 0.7626, 0.7585,\n",
       "       0.7544, 0.7503, 0.7462, 0.7421, 0.738 , 0.7339, 0.7298, 0.7257,\n",
       "       0.7216, 0.7175, 0.7134, 0.7093, 0.7052, 0.7011, 0.697 , 0.6929,\n",
       "       0.6888, 0.6847, 0.6806, 0.6765, 0.6724, 0.6683, 0.6642, 0.6601,\n",
       "       0.656 , 0.6519, 0.6478, 0.6437, 0.6396, 0.6355, 0.6314, 0.6273,\n",
       "       0.6232, 0.6191, 0.615 , 0.6109, 0.6068, 0.6027, 0.5986, 0.5945,\n",
       "       0.5904, 0.5863, 0.5822, 0.5781, 0.574 , 0.5699, 0.5658, 0.5617,\n",
       "       0.5576, 0.5535, 0.5494, 0.5453, 0.5412, 0.5371, 0.533 , 0.5289,\n",
       "       0.5248, 0.5207, 0.5166, 0.5125, 0.5084, 0.5043, 0.5002, 0.4961,\n",
       "       0.492 , 0.4879, 0.4838, 0.4797, 0.4756, 0.4715, 0.4674, 0.4633,\n",
       "       0.4592, 0.4551, 0.451 , 0.4469, 0.4428, 0.4387, 0.4346, 0.4305,\n",
       "       0.4264, 0.4223, 0.4182, 0.4141, 0.41  ])"
      ]
     },
     "execution_count": 45,
     "metadata": {},
     "output_type": "execute_result"
    }
   ],
   "source": [
    "# price in time 0, q_0\n",
    "q_0 = beta*(1-delta_b/2)\n",
    "q_0"
   ]
  },
  {
   "cell_type": "code",
   "execution_count": 46,
   "metadata": {},
   "outputs": [
    {
     "data": {
      "text/plain": [
       "0.82"
      ]
     },
     "execution_count": 46,
     "metadata": {},
     "output_type": "execute_result"
    }
   ],
   "source": [
    "# price in time 1, q_1\n",
    "q_1 = beta\n",
    "q_1"
   ]
  },
  {
   "cell_type": "code",
   "execution_count": 47,
   "metadata": {},
   "outputs": [
    {
     "name": "stdout",
     "output_type": "stream",
     "text": [
      "[0.15970039 0.16137707 0.16308039 0.16481083 0.16656892 0.16835516\n",
      " 0.17017009 0.17201424 0.17388816 0.17579238 0.17772749 0.17969403\n",
      " 0.18169259 0.18372375 0.18578809 0.18788622 0.19001874 0.19218625\n",
      " 0.19438938 0.19662873 0.19890494 0.20121862 0.20357043 0.20596098\n",
      " 0.20839092 0.21086088 0.2133715  0.21592342 0.21851726 0.22115366\n",
      " 0.22383325 0.22655665 0.22932446 0.23213729 0.23499572 0.23790034\n",
      " 0.24085171 0.24385037 0.24689685 0.24999164 0.25313523 0.25632805\n",
      " 0.25957054 0.26286307 0.26620599 0.26959961 0.27304417 0.2765399\n",
      " 0.28008696 0.28368544 0.28733539 0.29103679 0.29478954 0.29859347\n",
      " 0.30244834 0.30635382 0.31030949 0.31431484 0.31836926 0.32247203\n",
      " 0.32662234 0.33081926 0.33506173 0.33934859 0.34367855 0.3480502\n",
      " 0.35246197 0.35691219 0.36139905 0.36592058 0.37047471 0.3750592\n",
      " 0.37967168 0.38430965 0.38897049 0.39365141 0.39834953 0.40306183\n",
      " 0.40778517 0.4125163  0.41725187 0.42198843 0.42672244 0.43145028\n",
      " 0.43616826 0.44087264 0.44555962 0.45022537 0.45486604 0.45947776\n",
      " 0.46405665 0.46859887 0.47310056 0.47755794 0.48196724 0.48632477\n",
      " 0.49062689 0.49487005 0.49905077 0.50316569 0.50721152]\n"
     ]
    },
    {
     "data": {
      "image/png": "[encoded data removed]",
      "text/plain": [
       "<Figure size 1000x600 with 1 Axes>"
      ]
     },
     "metadata": {},
     "output_type": "display_data"
    }
   ],
   "source": [
    "# solve for b_0\n",
    "\n",
    "def HH_foc_b0(b_0, delta_b, q_0):\n",
    "    LHS = (2-delta_b)*(y_0 + q_0*b_0 )**(-sigma)\n",
    "    RHS_1 = (1-delta_b)*(y_l + beta*(1-delta_b)/(1+beta)*b_0 - (1-delta_b)*b_0)**(-sigma)\n",
    "    RHS_2 = (y_h-b_0/(1+beta))**(-sigma)\n",
    "    return LHS - RHS_1 - RHS_2\n",
    "\n",
    "# Initial guess for the root\n",
    "initial_guess = 0.5\n",
    "\n",
    "# Vectorized function to solve for the root for each combination of delta_b and q_0\n",
    "def solve_for_roots(delta_b, q_0, initial_guess):\n",
    "    # Define a wrapper function for fsolve that only takes b_0 as input\n",
    "    def wrapper(delta_b, q_0):\n",
    "        return fsolve(HH_foc_b0, initial_guess, args=(delta_b, q_0))[0]\n",
    "    \n",
    "    # Apply the wrapper function to each combination of delta_b and q_0\n",
    "    b_0 = np.array([wrapper(delta_b, q_0) for delta_b, q_0 in zip(delta_b, q_0)])\n",
    "    return b_0\n",
    "\n",
    "# Solve for the roots\n",
    "b_0 = solve_for_roots(delta_b, q_0, initial_guess)\n",
    "print(b_0)\n",
    "\n",
    "# Plot b_0 as a function of delta_b\n",
    "plt.figure(figsize=(10, 6))\n",
    "plt.plot(delta_b, b_0, linestyle='-', color='b')\n",
    "plt.xlabel('delta_b')\n",
    "plt.ylabel('b_0')\n",
    "plt.title('b_0 as a function of delta_b')\n",
    "plt.grid(True)\n",
    "plt.show()\n",
    "\n",
    "    \n"
   ]
  },
  {
   "cell_type": "code",
   "execution_count": 48,
   "metadata": {},
   "outputs": [
    {
     "data": {
      "text/plain": [
       "array([1.13095432, 1.13166755, 1.13238866, 1.13311771, 1.13385478,\n",
       "       1.13459995, 1.13535329, 1.13611487, 1.13688476, 1.13766302,\n",
       "       1.13844971, 1.1392449 , 1.14004865, 1.140861  , 1.141682  ,\n",
       "       1.1425117 , 1.14335014, 1.14419735, 1.14505335, 1.14591818,\n",
       "       1.14679184, 1.14767435, 1.1485657 , 1.14946588, 1.15037489,\n",
       "       1.15129268, 1.15221923, 1.15315448, 1.15409837, 1.15505083,\n",
       "       1.15601178, 1.1569811 , 1.15795869, 1.1589444 , 1.15993809,\n",
       "       1.16093958, 1.16194869, 1.1629652 , 1.16398889, 1.16501948,\n",
       "       1.16605671, 1.16710026, 1.1681498 , 1.16920496, 1.17026535,\n",
       "       1.17133055, 1.17240009, 1.17347348, 1.17455019, 1.17562966,\n",
       "       1.17671127, 1.17779437, 1.17887829, 1.17996228, 1.18104558,\n",
       "       1.18212735, 1.18320672, 1.18428279, 1.18535458, 1.18642108,\n",
       "       1.18748122, 1.18853389, 1.18957793, 1.1906121 , 1.19163516,\n",
       "       1.19264578, 1.19364261, 1.19462422, 1.19558916, 1.19653595,\n",
       "       1.19746302, 1.19836881, 1.1992517 , 1.20011004, 1.20094215,\n",
       "       1.20174635, 1.2025209 , 1.20326408, 1.20397414, 1.20464934,\n",
       "       1.20528792, 1.20588815, 1.20644831, 1.2069667 , 1.20744162,\n",
       "       1.20787145, 1.20825457, 1.20858942, 1.20887449, 1.20910833,\n",
       "       1.20928955, 1.20941683, 1.20948893, 1.20950467, 1.20946296,\n",
       "       1.20936281, 1.20920331, 1.20898362, 1.20870303, 1.20836091,\n",
       "       1.20795672])"
      ]
     },
     "execution_count": 48,
     "metadata": {},
     "output_type": "execute_result"
    }
   ],
   "source": [
    "# consumption in time 0, c_0\n",
    "\n",
    "c_0 = y_0 + q_0*b_0\n",
    "c_0"
   ]
  },
  {
   "cell_type": "markdown",
   "metadata": {},
   "source": [
    "### Solving Nash Bargaining"
   ]
  },
  {
   "cell_type": "code",
   "execution_count": 49,
   "metadata": {},
   "outputs": [
    {
     "data": {
      "text/plain": [
       "-2.0"
      ]
     },
     "execution_count": 49,
     "metadata": {},
     "output_type": "execute_result"
    }
   ],
   "source": [
    "# utility function\n",
    "\n",
    "def utility(c):\n",
    "    return c**(1-sigma)/(1-sigma)\n",
    "    #return np.log(c)\n",
    "\n",
    "utility(0.5)\n",
    "\n"
   ]
  },
  {
   "cell_type": "code",
   "execution_count": 50,
   "metadata": {},
   "outputs": [
    {
     "name": "stdout",
     "output_type": "stream",
     "text": [
      "[[0.   0.   0.   ... 0.   0.   0.  ]\n",
      " [0.   0.   0.   ... 0.   0.   0.  ]\n",
      " [0.   0.   0.   ... 0.   0.   0.  ]\n",
      " ...\n",
      " [0.52 0.53 0.53 ... 0.   0.   0.  ]\n",
      " [0.75 0.76 0.76 ... 0.   0.   0.  ]\n",
      " [1.   1.   1.   ... 1.   1.   1.  ]]\n"
     ]
    },
    {
     "name": "stderr",
     "output_type": "stream",
     "text": [
      "C:\\Users\\Maude\\AppData\\Local\\Temp\\ipykernel_23284\\1204235016.py:4: RuntimeWarning: invalid value encountered in power\n",
      "  HS = ((1+beta)*utility(y_l - (1-delta_l)/(1+beta)*b_0)-utility(y_l)-beta*utility((1-kappa)*y_l))**theta\n"
     ]
    },
    {
     "data": {
      "text/plain": [
       "11"
      ]
     },
     "execution_count": 50,
     "metadata": {},
     "output_type": "execute_result"
    }
   ],
   "source": [
    "# omega function\n",
    "\n",
    "def omega(delta_l, theta, b_0):\n",
    "    HS = ((1+beta)*utility(y_l - (1-delta_l)/(1+beta)*b_0)-utility(y_l)-beta*utility((1-kappa)*y_l))**theta\n",
    "    FS = (b_0*(1-delta_l))**(1-theta)\n",
    "    return HS*FS\n",
    "\n",
    "# grid for delta_l and theta\n",
    "delta_l = np.linspace(0, 1, 101)\n",
    "theta_b = np.linspace(0, 1, 11)\n",
    "\n",
    "#create a meshgrid for delta_l and theta\n",
    "delta_L, theta_B, B_0 = np.meshgrid(delta_l, theta_b, b_0, indexing='ij')\n",
    "\n",
    "# matrix for omega\n",
    "m_omega = omega(delta_L, theta_B, B_0)\n",
    "\n",
    "# Find the highest value for each combination of theta_B and B_0\n",
    "\n",
    "max_indices = np.argmax(m_omega, axis=0) \n",
    "\n",
    "# Convert indices to corresponding delta_L values\n",
    "max_delta_L_values = delta_l[max_indices]\n",
    "\n",
    "print(max_delta_L_values)\n",
    "max_delta_L_values.shape[0]\n",
    "\n"
   ]
  },
  {
   "cell_type": "markdown",
   "metadata": {},
   "source": [
    "### Calibration of theta to target b_0/y_0"
   ]
  },
  {
   "cell_type": "code",
   "execution_count": 51,
   "metadata": {},
   "outputs": [
    {
     "data": {
      "text/plain": [
       "array([0.  , 0.  , 0.  , 0.  , 0.  , 0.  , 0.48, 0.61, 0.62, 0.62, 1.  ])"
      ]
     },
     "execution_count": 51,
     "metadata": {},
     "output_type": "execute_result"
    }
   ],
   "source": [
    "# rationale expectation\n",
    "\n",
    "def delta_rational_2(m_max_delta_L_values, v_delta_l):\n",
    "    m_delta_l = np.tile(v_delta_l, (m_max_delta_L_values.shape[0], 1))\n",
    "    m_diff=abs(m_max_delta_L_values-m_delta_l)\n",
    "    min_indices = np.argmin(m_diff, axis=1)\n",
    "    v_delta_r= v_delta_l[min_indices]\n",
    "    return v_delta_r, min_indices\n",
    "\n",
    "delta_rational_2(max_delta_L_values, delta_l)[0]"
   ]
  },
  {
   "cell_type": "code",
   "execution_count": 52,
   "metadata": {},
   "outputs": [
    {
     "data": {
      "text/plain": [
       "(array([0.  , 0.  , 0.  , 0.  , 0.  , 0.  , 0.49, 0.62, 0.62, 0.62, 1.  ]),\n",
       " array([  0,   0,   0,   0,   0,   0,  49,  62,  62,  62, 100]))"
      ]
     },
     "execution_count": 52,
     "metadata": {},
     "output_type": "execute_result"
    }
   ],
   "source": [
    "def delta_rational(m_max_delta_L_values, v_delta_l):\n",
    "    m_delta_l = np.tile(v_delta_l, (m_max_delta_L_values.shape[0], 1))\n",
    "    m_diff=abs(m_max_delta_L_values-m_delta_l)\n",
    "\n",
    "    # if several minimum, take the one in the middle\n",
    "\n",
    "    # Function to find the middle index of minimum values\n",
    "    def middle_index_of_min(arr):\n",
    "        min_value = np.min(arr)\n",
    "        min_indices = np.where(arr == min_value)[0]\n",
    "        middle_index = min_indices[len(min_indices) // 2]\n",
    "        return middle_index\n",
    "\n",
    "    adjusted_indices = np.apply_along_axis(middle_index_of_min, 1, m_diff).T  \n",
    "\n",
    "    v_delta_r= v_delta_l[adjusted_indices]\n",
    "    return v_delta_r, adjusted_indices\n",
    "\n",
    "delta_rational(max_delta_L_values, delta_l)"
   ]
  },
  {
   "cell_type": "code",
   "execution_count": 53,
   "metadata": {},
   "outputs": [
    {
     "data": {
      "text/plain": [
       "np.float64(37.118)"
      ]
     },
     "execution_count": 53,
     "metadata": {},
     "output_type": "execute_result"
    }
   ],
   "source": [
    "# target debt to GDP ratio, b_0/y_0\n",
    "\n",
    "## open excel file\n",
    "df = pd.read_excel(os.path.join(PATH_DATA, 'debt_to_GDP - Argentina - IMF.xls'), sheet_name=1)\n",
    "\n",
    "## Define the years to keep\n",
    "years_to_keep = [1996, 1997, 1998, 1999, 2000]\n",
    "\n",
    "## Filter the DataFrame to keep only the rows where Year is in the specified list\n",
    "df_0 = df[df['Year'].isin(years_to_keep)]\n",
    "df_0\n",
    "\n",
    "## Calculate the average of the 'debt_to_GDP' variable\n",
    "target_b_0_y_0 = df_0['debt_to_GDP'].mean()\n",
    "target_b_0_y_0\n"
   ]
  },
  {
   "cell_type": "code",
   "execution_count": 54,
   "metadata": {},
   "outputs": [
    {
     "name": "stdout",
     "output_type": "stream",
     "text": [
      "[0.15970039 0.15970039 0.15970039 0.15970039 0.15970039 0.15970039\n",
      " 0.28368544 0.33506173 0.33506173 0.33506173 0.50721152]\n"
     ]
    },
    {
     "data": {
      "text/plain": [
       "np.int64(62)"
      ]
     },
     "execution_count": 54,
     "metadata": {},
     "output_type": "execute_result"
    }
   ],
   "source": [
    "#b_0/y_0 for each delta in delta_rational\n",
    "min_indices=delta_rational(max_delta_L_values, delta_l)[1]\n",
    "print(b_0[min_indices])\n",
    "\n",
    "#closest b_0/y_0 to target_b_0_y_0\n",
    "\n",
    "abs_diff = abs(b_0[min_indices]*100-target_b_0_y_0)\n",
    "\n",
    "# Find the minimum value\n",
    "min_value = np.min(abs_diff)\n",
    "\n",
    "# Find all indices of the minimum value\n",
    "min_indices_several = np.where(abs_diff == min_value)[0]\n",
    "\n",
    "# Select the middle index of the minimum values\n",
    "middle_index = min_indices_several[len(min_indices_several) // 2]\n",
    "\n",
    "# Assign the middle index to min_indices_target\n",
    "min_indices_target = middle_index\n",
    "\n",
    "#min_indices_target = np.argmin(abs(b_0[min_indices]*100-target_b_0_y_0))\n",
    "cali_b_0_y_0=b_0[min_indices][min_indices_target]\n",
    "cali_b_0_y_0\n",
    "\n",
    "min_indices[min_indices_target]\n"
   ]
  },
  {
   "cell_type": "code",
   "execution_count": 55,
   "metadata": {},
   "outputs": [
    {
     "name": "stdout",
     "output_type": "stream",
     "text": [
      "The target debt to GDP ratio is 37.118\n",
      "the calibrated debt to GDP ratio is 0.3350617299218259\n",
      "The rationale believed haircut is 0.62 and the optimal haircut is 0.77\n",
      "The Nash bargaining power is 0.8\n"
     ]
    }
   ],
   "source": [
    "# Solution\n",
    "\n",
    "print(f\"The target debt to GDP ratio is {target_b_0_y_0}\")\n",
    "print(f\"the calibrated debt to GDP ratio is {cali_b_0_y_0}\")\n",
    "print(f\"The rationale believed haircut is {delta_rational(max_delta_L_values, delta_l)[0][min_indices_target]} and the optimal haircut is {max_delta_L_values[min_indices_target, min_indices[min_indices_target] ]}\")\n",
    "print(f\"The Nash bargaining power is {theta_b[min_indices_target]}\")"
   ]
  }
 ],
 "metadata": {
  "kernelspec": {
   "display_name": "cali_macro",
   "language": "python",
   "name": "python3"
  },
  "language_info": {
   "codemirror_mode": {
    "name": "ipython",
    "version": 3
   },
   "file_extension": ".py",
   "mimetype": "text/x-python",
   "name": "python",
   "nbconvert_exporter": "python",
   "pygments_lexer": "ipython3",
   "version": "3.12.7"
  }
 },
 "nbformat": 4,
 "nbformat_minor": 2
}
