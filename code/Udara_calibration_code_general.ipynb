{
 "cells": [
  {
   "cell_type": "markdown",
   "metadata": {},
   "source": [
    "# Calibration Project: Capital Flow Freezes ( Udara Peiris, 2024)"
   ]
  },
  {
   "cell_type": "markdown",
   "metadata": {},
   "source": [
    "## Setup"
   ]
  },
  {
   "cell_type": "markdown",
   "metadata": {},
   "source": [
    "### Packages"
   ]
  },
  {
   "cell_type": "code",
   "execution_count": 164,
   "metadata": {},
   "outputs": [],
   "source": [
    "import requests\n",
    "import pandas as pd\n",
    "import xlrd\n",
    "import os\n",
    "import numpy as np\n",
    "\n",
    "from scipy.optimize import fsolve\n",
    "from scipy.stats import percentileofscore\n",
    "import matplotlib.pyplot as plt"
   ]
  },
  {
   "cell_type": "markdown",
   "metadata": {},
   "source": [
    "### Path and working directory"
   ]
  },
  {
   "cell_type": "code",
   "execution_count": 165,
   "metadata": {},
   "outputs": [],
   "source": [
    "ROOT = os.path.dirname(os.getcwd())\n",
    "\n",
    "PATH_DATA = os.path.join(ROOT, 'data')"
   ]
  },
  {
   "cell_type": "markdown",
   "metadata": {},
   "source": [
    "## External Estimation of Parameters"
   ]
  },
  {
   "cell_type": "markdown",
   "metadata": {},
   "source": [
    "The income shocks $y_l$ and $y_h$ are computed based on GDP per capita growth between 1996 and 2000 in upper middle income countries like Argentina."
   ]
  },
  {
   "cell_type": "code",
   "execution_count": 166,
   "metadata": {},
   "outputs": [],
   "source": [
    "# open the excel file with the GDP growth data\n",
    "df_growth = pd.read_excel(os.path.join(PATH_DATA, 'GDP_growth - world - WB.xls'), sheet_name=0, header=0)\n",
    "\n",
    "# delete the first two rows\n",
    "df_growth = df_growth.iloc[2:]\n",
    "\n",
    "# Define the columns to keep\n",
    "columns_to_keep = ['Country Name', 'Country Code', 'Indicator Name', \"2001\", \"2002\", \"2003\", \"2004\", \"2005\"]\n",
    "\n",
    "df_growth=df_growth[columns_to_keep]\n",
    "\n",
    "# Create a new column 'average' with the average of columns 2001, 2002, 2003, 2004, 2005 for each row\n",
    "df_growth['average'] = df_growth[['2001', '2002', '2003', '2004', '2005']].mean(axis=1)\n",
    "\n",
    "# Handle NaN values by dropping rows with NaN in the 'average' column\n",
    "df_growth = df_growth.dropna(subset=['average'])\n",
    "\n",
    "#open the excel file with the country income classification data\n",
    "df_classification = pd.read_excel(os.path.join(PATH_DATA, 'World_Bank_classification.xlsx'), sheet_name=0, header=0)\n",
    "\n",
    "#keep only the columns \"Code\" and \"Income group\"\n",
    "df_classification = df_classification[['Code', 'Income group']]\n",
    "\n",
    "# Merge the df_growth and df_classification DataFrames\n",
    "df_merged = pd.merge(df_growth, df_classification, left_on='Country Code', right_on='Code')\n",
    "\n",
    "# keep only if income group is \"Upper middle income\"\n",
    "df_merged = df_merged[(df_merged['Income group'] == 'Upper middle income')]\n",
    "\n",
    "# Find the percentile rank of the Argentinian average GDP growth\n",
    "average_ARG = df_merged.loc[df_merged['Country Code'] == \"ARG\", 'average'].values\n",
    "percentile_rank_ARG = percentileofscore(df_merged['average'], average_ARG)\n",
    "\n",
    "# Calculate the high growth rate\n",
    "growth_h = np.percentile(df_merged['average'], 100-percentile_rank_ARG/1.5)\n",
    "            #ideally high growth rate would be symmetric to low growth rate,\n",
    "            #but I need an higher high growth rate than the symmetric one"
   ]
  },
  {
   "cell_type": "markdown",
   "metadata": {},
   "source": [
    "The targeted debt to GDP ratio is based on the Argentinian debt to GDP ratio between 1996 and 2000."
   ]
  },
  {
   "cell_type": "code",
   "execution_count": 167,
   "metadata": {},
   "outputs": [
    {
     "data": {
      "text/plain": [
       "np.float64(37.118)"
      ]
     },
     "execution_count": 167,
     "metadata": {},
     "output_type": "execute_result"
    }
   ],
   "source": [
    "# target debt to GDP ratio, b_0/y_0\n",
    "\n",
    "## open excel file\n",
    "df = pd.read_excel(os.path.join(PATH_DATA, 'debt_to_GDP - Argentina - IMF.xls'), sheet_name=1)\n",
    "\n",
    "## Define the years to keep\n",
    "years_to_keep = [1996, 1997, 1998, 1999, 2000]\n",
    "\n",
    "## Filter the DataFrame to keep only the rows where Year is in the specified list\n",
    "df_0 = df[df['Year'].isin(years_to_keep)]\n",
    "df_0\n",
    "\n",
    "## Calculate the average of the 'debt_to_GDP' variable\n",
    "target_b_0_y_0 = df_0['debt_to_GDP'].mean()\n",
    "target_b_0_y_0"
   ]
  },
  {
   "cell_type": "markdown",
   "metadata": {},
   "source": [
    "## Internal Calibration"
   ]
  },
  {
   "cell_type": "code",
   "execution_count": 168,
   "metadata": {},
   "outputs": [],
   "source": [
    "class Udara_Peiris_economy:\n",
    "    \"\"\"\n",
    "    This class represents the economy of Udara Peiris in which the private sector takes on some debt.\n",
    "    If it is impacted by a negative income shock, it can pass on its debt to the sovereign, which\n",
    "    will negotiate a haircut with creditors.\n",
    "\n",
    "    Parameters:\n",
    "        beta = time discount factor\n",
    "        sigma = risk aversion coefficient\n",
    "        g_l = growth rate in the low state\n",
    "        g_h = growth rate in the high state\n",
    "        y_0 = income in time 0\n",
    "        y_l = low income in time 1 and 2\n",
    "        g_h = high income in time 1 and 2\n",
    "        kappa = loss of output if default  \n",
    "    \"\"\"\n",
    "    def __init__(self,\n",
    "                 beta=0.82,                             # time discount factor\n",
    "                 sigma=2,                               # risk aversion\n",
    "                 g_l=(1 + average_ARG / 100)**5 - 1,    # growth rate of the low state (example value)\n",
    "                 g_h=(1 + growth_h / 100)**5 - 1,       # growth rate of the high state (example value)\n",
    "                 y_0=1,                                 # output in time 0\n",
    "                 kappa=0.32,                            # loss of output (quarterly 2%)\n",
    "                 n_delta=101,                           # number of points in the grid for delta\n",
    "                 n_theta=101,                            # number of points in the grid for theta\n",
    "                 target=target_b_0_y_0):               # target b_0/y_0\n",
    "\n",
    "        # Calculate the low and high income in t=1 and t=2\n",
    "        y_l = 1 + g_l\n",
    "        y_h = 1 + g_h\n",
    "\n",
    "        # Save parameters\n",
    "        self.beta, self.sigma, self.kappa = beta, sigma, kappa\n",
    "        self.g_l, self.g_h = g_l, g_h\n",
    "        self.y_0, self.y_l, self.y_h = y_0, y_l, y_h\n",
    "        self.n_delta, self.n_theta = n_delta, n_theta\n",
    "        self.target = target\n",
    "\n",
    "        # Create grids\n",
    "        self.delta_b = np.linspace(0, 1, n_delta)\n",
    "        self.delta_l = np.linspace(0, 1, n_delta)\n",
    "        self.theta = np.linspace(0, 1, n_theta)\n",
    "        self.q_0 = beta * (1 - self.delta_b / 2)\n",
    "\n",
    "\n",
    "        # Allocate memory\n",
    "        self.b_0 = None\n",
    "        self.delta_L = None\n",
    "        self.Theta = None\n",
    "        self.B_0 = None\n",
    "        self.m_omega = None\n",
    "        self.max_delta_L_values = None\n",
    "        self.adjusted_indices = None\n",
    "        self.delta_r = None\n",
    "        self.index_target = None\n",
    "        self.cali_b_0_y_0 = None\n",
    "\n",
    "        # Initialize the economy\n",
    "        self.solve_for_roots()  # Compute b_0 first\n",
    "        self.initialize_meshgrids()  # Now b_0 is ready for meshgrid creation\n",
    "        self.omega() # Compute omega values\n",
    "        self.find_max_delta_L() # Find the highest delta_L values\n",
    "        self.delta_rational() # Compute the rational delta values\n",
    "        self.find_closest_b0_y0() # Find the closest b_0/y_0 value\n",
    "\n",
    "    # Household FOC for b_0\n",
    "    def HH_foc_b0(self, b_0, delta_b, q_0):\n",
    "        LHS = (2 - delta_b) * (self.y_0 + q_0 * b_0)**(-self.sigma)\n",
    "        RHS_1 = (1 - delta_b) * (self.y_l + self.beta * (1 - delta_b) / (1 + self.beta) * b_0 - (1 - delta_b) * b_0)**(-self.sigma)\n",
    "        RHS_2 = (self.y_h - b_0 / (1 + self.beta))**(-self.sigma)\n",
    "        return LHS - RHS_1 - RHS_2\n",
    "\n",
    "    # Vectorized function to solve for the root for each combination of delta_b and q_0\n",
    "    def solve_for_roots(self):\n",
    "        initial_guess = 0.5\n",
    "\n",
    "        # Wrapper function for fsolve\n",
    "        def wrapper(delta_b, q_0):\n",
    "            return fsolve(self.HH_foc_b0, initial_guess, args=(delta_b, q_0))[0]\n",
    "\n",
    "        # Apply the wrapper function to each combination of delta_b and q_0\n",
    "        self.b_0 = np.array([wrapper(delta_b, q_0) for delta_b, q_0 in zip(self.delta_b, self.q_0)])\n",
    "        return self.b_0\n",
    "    \n",
    "    # Plot b_0 as a function of delta_b\n",
    "    def plot_b0_vs_delta_b(self):\n",
    "        if self.b_0 is None:\n",
    "            raise ValueError(\"You must calculate b_0 first by calling solve_for_roots().\")\n",
    "        \n",
    "        # Create the plot\n",
    "        plt.figure(figsize=(10, 6))\n",
    "        plt.plot(self.delta_b, self.b_0, linestyle='-', color='b')\n",
    "        plt.xlabel('delta_b')\n",
    "        plt.ylabel('b_0')\n",
    "        plt.title('b_0 as a function of delta_b')\n",
    "        plt.grid(True)\n",
    "        plt.show()\n",
    "        \n",
    "        # consumption in t=0\n",
    "        self.c_0 = self.y_0 + self.q_0*self.b_0\n",
    "\n",
    "    # Utility function\n",
    "    def utility(self, c):\n",
    "        return c**(1-self.sigma)/(1-self.sigma)\n",
    "    \n",
    "    # Meshgrid for delta_l, theta, and b_0\n",
    "    def initialize_meshgrids(self):\n",
    "        \n",
    "        self.delta_L, self.Theta, self.B_0 = np.meshgrid(self.delta_l, self.theta, self.b_0, indexing='ij')\n",
    "        \n",
    "        \n",
    "    # Nash bargaining function\n",
    "    def omega(self):\n",
    "        HS = ((1+self.beta)*self.utility(self.y_l - (1-self.delta_L)/(1+self.beta)*self.B_0)-self.utility(self.y_l)-self.beta*self.utility((1-self.kappa)*self.y_l))**self.Theta\n",
    "        FS = (self.B_0*(1-self.delta_L))**(1-self.Theta)\n",
    "        self.m_omega = HS*FS\n",
    "        return self.m_omega\n",
    "    \n",
    "    # Find the highest value for each combination of theta and B_0, and return the corresponding delta_L values\n",
    "    def find_max_delta_L(self):\n",
    "        # Find the indices of the maximum omega values along the delta_L axis\n",
    "        max_indices = np.argmax(self.m_omega, axis=0)\n",
    "\n",
    "        # Map indices to corresponding delta_L values\n",
    "        self.max_delta_L_values = self.delta_l[max_indices]\n",
    "\n",
    "        return self.max_delta_L_values\n",
    "    \n",
    "    \n",
    "    def delta_rational(self):\n",
    "        \"\"\"\n",
    "        Computes the delta rational adjustment for the given max delta_L values and delta_L vector.\n",
    "\n",
    "        Uses the matrix of max delta_L values and the vector of delta_L grid points\n",
    "        to calculate the rational delta values.\n",
    "\n",
    "        Returns:\n",
    "            v_delta_r: Adjusted delta values (1D array)\n",
    "            adjusted_indices: Indices corresponding to the rational delta values\n",
    "        \"\"\"\n",
    "        if self.max_delta_L_values is None or self.delta_l is None:\n",
    "            raise ValueError(\"max_delta_L_values or delta_l is not initialized. Call find_max_delta_L() first.\")\n",
    "        \n",
    "        # Create a matrix by tiling delta_l for comparison\n",
    "        m_delta_l = np.tile(self.delta_l, (self.n_theta, 1))\n",
    "        m_diff = abs(self.max_delta_L_values - m_delta_l)\n",
    "\n",
    "        # Function to find the middle index of minimum values\n",
    "        def middle_index_of_min(arr):\n",
    "            min_value = np.min(arr)\n",
    "            min_indices = np.where(arr == min_value)[0]\n",
    "            middle_index = min_indices[len(min_indices) // 2]\n",
    "            return middle_index\n",
    "\n",
    "        # Apply the function along axis 1 (rows)\n",
    "        self.adjusted_indices = np.apply_along_axis(middle_index_of_min, 1, m_diff).T\n",
    "\n",
    "        # Compute the adjusted delta values\n",
    "        self.delta_r = self.delta_l[self.adjusted_indices]\n",
    "        return self.delta_r, self.adjusted_indices\n",
    "    \n",
    "    # \n",
    "    def find_closest_b0_y0(self):\n",
    "        \"\"\"\n",
    "        Finds the `b_0/y_0` value closest to the specified target.\n",
    "\n",
    "        Parameters:\n",
    "            target_b_0_y_0 (float): The target `b_0/y_0` value to match.\n",
    "\n",
    "        Returns:\n",
    "            cali_b_0_y_0 (float): The calibrated `b_0/y_0` value closest to the target.\n",
    "            min_indices_target (int): The index of the closest `b_0/y_0` value.\n",
    "        \"\"\"\n",
    "        if self.b_0 is None:\n",
    "            raise ValueError(\"b_0 is not initialized. Call solve_for_roots() first.\")\n",
    "\n",
    "        # Compute the absolute difference between target and b_0/y_0 values\n",
    "        abs_diff = abs(self.b_0[self.adjusted_indices] * 100 - self.target)\n",
    "\n",
    "        # Find the minimum value and all corresponding indices\n",
    "        min_value = np.min(abs_diff)\n",
    "        min_indices_several = np.where(abs_diff == min_value)[0]\n",
    "\n",
    "        # Select the middle index of the minimum values\n",
    "        self.index_target = min_indices_several[len(min_indices_several) // 2]\n",
    "\n",
    "        # Extract the calibrated `b_0/y_0` value\n",
    "        self.cali_b_0_y_0 = self.b_0[self.adjusted_indices][self.index_target]\n",
    "\n",
    "        return self.cali_b_0_y_0, self.index_target\n",
    "    \n",
    "    def solution(self):\n",
    "        print(f\"The target debt to GDP ratio is {self.target}\")\n",
    "        print(f\"The calibrated debt to GDP ratio is {self.cali_b_0_y_0}\")\n",
    "        print(f\"The rationale believed haircut is {self.delta_r[self.index_target]} and the optimal haircut is {self.max_delta_L_values[self.index_target, self.adjusted_indices[self.index_target] ]}\")\n",
    "        print(f\"The Nash bargaining power is {self.theta[self.index_target]}\")\n",
    "\n",
    "    def trial(self):\n",
    "        if self.B_0 is None:\n",
    "            raise ValueError(\"Meshgrid has not been initialized. Call initialize_meshgrids first.\")\n",
    "        return self.B_0\n",
    "\n",
    "        \n",
    "    \n",
    "\n"
   ]
  },
  {
   "cell_type": "code",
   "execution_count": 169,
   "metadata": {},
   "outputs": [
    {
     "name": "stdout",
     "output_type": "stream",
     "text": [
      "The target debt to GDP ratio is 37.118\n",
      "The calibrated debt to GDP ratio is 0.3350617299218259\n",
      "The rationale believed haircut is 0.62 and the optimal haircut is 0.79\n",
      "The Nash bargaining power is 0.8200000000000001\n"
     ]
    },
    {
     "name": "stderr",
     "output_type": "stream",
     "text": [
      "C:\\Users\\Maude\\AppData\\Local\\Temp\\ipykernel_28668\\1851342838.py:114: RuntimeWarning: invalid value encountered in power\n",
      "  HS = ((1+self.beta)*self.utility(self.y_l - (1-self.delta_L)/(1+self.beta)*self.B_0)-self.utility(self.y_l)-self.beta*self.utility((1-self.kappa)*self.y_l))**self.Theta\n"
     ]
    }
   ],
   "source": [
    "economy = Udara_Peiris_economy()\n",
    "#b_0 = economy.solve_for_roots()\n",
    "#print(\"Solutions for b_0:\", b_0)\n",
    "#economy.plot_b0_vs_delta_b()\n",
    "\n",
    "#economy.omega()  # Call this to compute m_omega\n",
    "economy.solution()  # Call this to compute max_delta_L_values \n"
   ]
  }
 ],
 "metadata": {
  "kernelspec": {
   "display_name": "cali_macro",
   "language": "python",
   "name": "python3"
  },
  "language_info": {
   "codemirror_mode": {
    "name": "ipython",
    "version": 3
   },
   "file_extension": ".py",
   "mimetype": "text/x-python",
   "name": "python",
   "nbconvert_exporter": "python",
   "pygments_lexer": "ipython3",
   "version": "3.12.7"
  }
 },
 "nbformat": 4,
 "nbformat_minor": 2
}
