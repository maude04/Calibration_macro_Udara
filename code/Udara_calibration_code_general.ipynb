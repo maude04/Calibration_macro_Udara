{
 "cells": [
  {
   "cell_type": "markdown",
   "metadata": {},
   "source": [
    "# Calibration Project: Capital Flow Freezes ( Udara Peiris, 2024)"
   ]
  },
  {
   "cell_type": "markdown",
   "metadata": {},
   "source": [
    "## Setup"
   ]
  },
  {
   "cell_type": "markdown",
   "metadata": {},
   "source": [
    "### Packages"
   ]
  },
  {
   "cell_type": "code",
   "execution_count": 5,
   "metadata": {},
   "outputs": [],
   "source": [
    "import requests\n",
    "import pandas as pd\n",
    "import xlrd\n",
    "import os\n",
    "import numpy as np\n",
    "\n",
    "from scipy.optimize import fsolve\n",
    "from scipy.stats import percentileofscore\n",
    "import matplotlib.pyplot as plt"
   ]
  },
  {
   "cell_type": "markdown",
   "metadata": {},
   "source": [
    "### Path and working directory"
   ]
  },
  {
   "cell_type": "code",
   "execution_count": 6,
   "metadata": {},
   "outputs": [],
   "source": [
    "ROOT = os.path.dirname(os.getcwd())\n",
    "\n",
    "PATH_DATA = os.path.join(ROOT, 'data')"
   ]
  },
  {
   "cell_type": "markdown",
   "metadata": {},
   "source": [
    "## External Estimation of Parameters"
   ]
  },
  {
   "cell_type": "markdown",
   "metadata": {},
   "source": [
    "The income shocks $y_l$ and $y_h$ are computed based on GDP per capita growth between 1996 and 2000 in upper middle income countries like Argentina."
   ]
  },
  {
   "cell_type": "code",
   "execution_count": 3,
   "metadata": {},
   "outputs": [],
   "source": [
    "# open the excel file with the GDP growth data\n",
    "df_growth = pd.read_excel(os.path.join(PATH_DATA, 'GDP_growth - world - WB.xls'), sheet_name=0, header=0)\n",
    "\n",
    "# delete the first two rows\n",
    "df_growth = df_growth.iloc[2:]\n",
    "\n",
    "# Define the columns to keep\n",
    "columns_to_keep = ['Country Name', 'Country Code', 'Indicator Name', \"2001\", \"2002\", \"2003\", \"2004\", \"2005\"]\n",
    "\n",
    "df_growth=df_growth[columns_to_keep]\n",
    "\n",
    "# Create a new column 'average' with the average of columns 2001, 2002, 2003, 2004, 2005 for each row\n",
    "df_growth['average'] = df_growth[['2001', '2002', '2003', '2004', '2005']].mean(axis=1)\n",
    "\n",
    "# Handle NaN values by dropping rows with NaN in the 'average' column\n",
    "df_growth = df_growth.dropna(subset=['average'])\n",
    "\n",
    "#open the excel file with the country income classification data\n",
    "df_classification = pd.read_excel(os.path.join(PATH_DATA, 'World_Bank_classification.xlsx'), sheet_name=0, header=0)\n",
    "\n",
    "#keep only the columns \"Code\" and \"Income group\"\n",
    "df_classification = df_classification[['Code', 'Income group']]\n",
    "\n",
    "# Merge the df_growth and df_classification DataFrames\n",
    "df_merged = pd.merge(df_growth, df_classification, left_on='Country Code', right_on='Code')\n",
    "\n",
    "# keep only if income group is \"Upper middle income\"\n",
    "df_merged = df_merged[(df_merged['Income group'] == 'Upper middle income')]\n",
    "\n",
    "# Find the percentile rank of the Argentinian average GDP growth\n",
    "average_ARG = df_merged.loc[df_merged['Country Code'] == \"ARG\", 'average'].values\n",
    "percentile_rank_ARG = percentileofscore(df_merged['average'], average_ARG)\n",
    "\n",
    "# Calculate the high growth rate\n",
    "growth_h = np.percentile(df_merged['average'], 100-percentile_rank_ARG/1.5)\n",
    "            #ideally high growth rate would be symmetric to low growth rate,\n",
    "            #but I need an higher high growth rate than the symmetric one"
   ]
  },
  {
   "cell_type": "markdown",
   "metadata": {},
   "source": [
    "## Internal Calibration"
   ]
  },
  {
   "cell_type": "code",
   "execution_count": 87,
   "metadata": {},
   "outputs": [],
   "source": [
    "class Udara_Peiris_economy:\n",
    "    \"\"\"\n",
    "    This class represents the economy of Udara Peiris in which the private sector takes on some debt.\n",
    "    If it is impacted by a negative income shock, it can pass on its debt to the sovereign, which\n",
    "    will negotiate a haircut with creditors.\n",
    "\n",
    "    Parameters:\n",
    "        beta = time discount factor\n",
    "        sigma = risk aversion coefficient\n",
    "        g_l = growth rate in the low state\n",
    "        g_h = growth rate in the high state\n",
    "        y_0 = income in time 0\n",
    "        y_l = low income in time 1 and 2\n",
    "        g_h = high income in time 1 and 2\n",
    "        kappa = loss of output if default  \n",
    "    \"\"\"\n",
    "    def __init__(self,\n",
    "                 beta=0.82,                             # time discount factor\n",
    "                 sigma=2,                               # risk aversion\n",
    "                 g_l=(1 + average_ARG / 100)**5 - 1,    # growth rate of the low state (example value)\n",
    "                 g_h=(1 + growth_h / 100)**5 - 1,       # growth rate of the high state (example value)\n",
    "                 y_0=1,                                 # output in time 0\n",
    "                 kappa=0.32,                            # loss of output (quarterly 2%)\n",
    "                 n_delta=101,                           # number of points in the grid for delta\n",
    "                 n_theta=11):                           # number of points in the grid for theta\n",
    "\n",
    "        # Calculate the low and high income in t=1 and t=2\n",
    "        y_l = 1 + g_l\n",
    "        y_h = 1 + g_h\n",
    "\n",
    "        # Save parameters\n",
    "        self.beta, self.sigma, self.kappa = beta, sigma, kappa\n",
    "        self.g_l, self.g_h = g_l, g_h\n",
    "        self.y_0, self.y_l, self.y_h = y_0, y_l, y_h\n",
    "        self.n_delta, self.n_theta = n_delta, n_theta\n",
    "\n",
    "        # Create grids\n",
    "        self.delta_b = np.linspace(0, 1, n_delta)\n",
    "        self.q_0 = beta * (1 - self.delta_b / 2)\n",
    "\n",
    "        # Allocate memory\n",
    "        self.b_0 = None\n",
    "\n",
    "    # Household FOC for b_0\n",
    "    def HH_foc_b0(self, b_0, delta_b, q_0):\n",
    "        LHS = (2 - delta_b) * (self.y_0 + q_0 * b_0)**(-self.sigma)\n",
    "        RHS_1 = (1 - delta_b) * (self.y_l + self.beta * (1 - delta_b) / (1 + self.beta) * b_0 - (1 - delta_b) * b_0)**(-self.sigma)\n",
    "        RHS_2 = (self.y_h - b_0 / (1 + self.beta))**(-self.sigma)\n",
    "        return LHS - RHS_1 - RHS_2\n",
    "\n",
    "    # Vectorized function to solve for the root for each combination of delta_b and q_0\n",
    "    def solve_for_roots(self):\n",
    "        initial_guess = 0.5\n",
    "\n",
    "        # Wrapper function for fsolve\n",
    "        def wrapper(delta_b, q_0):\n",
    "            return fsolve(self.HH_foc_b0, initial_guess, args=(delta_b, q_0))[0]\n",
    "\n",
    "        # Apply the wrapper function to each combination of delta_b and q_0\n",
    "        self.b_0 = np.array([wrapper(delta_b, q_0) for delta_b, q_0 in zip(self.delta_b, self.q_0)])\n",
    "        return self.b_0\n",
    "    \n",
    "    # Plot b_0 as a function of delta_b\n",
    "    def plot_b0_vs_delta_b(self):\n",
    "        if self.b_0 is None:\n",
    "            raise ValueError(\"You must calculate b_0 first by calling solve_for_roots().\")\n",
    "        \n",
    "        # Create the plot\n",
    "        plt.figure(figsize=(10, 6))\n",
    "        plt.plot(self.delta_b, self.b_0, linestyle='-', color='b')\n",
    "        plt.xlabel('delta_b')\n",
    "        plt.ylabel('b_0')\n",
    "        plt.title('b_0 as a function of delta_b')\n",
    "        plt.grid(True)\n",
    "        plt.show()\n",
    "        \n",
    "        # consumption in t=0\n",
    "        self.c_0 = self.y_0 + self.q_0*self.b_0\n",
    "\n",
    "    def trial(self):\n",
    "        return self.c_0\n",
    "\n",
    "        \n",
    "    \n",
    "\n"
   ]
  },
  {
   "cell_type": "code",
   "execution_count": 88,
   "metadata": {},
   "outputs": [
    {
     "name": "stdout",
     "output_type": "stream",
     "text": [
      "Solutions for b_0: [0.15970039 0.16137707 0.16308039 0.16481083 0.16656892 0.16835516\n",
      " 0.17017009 0.17201424 0.17388816 0.17579238 0.17772749 0.17969403\n",
      " 0.18169259 0.18372375 0.18578809 0.18788622 0.19001874 0.19218625\n",
      " 0.19438938 0.19662873 0.19890494 0.20121862 0.20357043 0.20596098\n",
      " 0.20839092 0.21086088 0.2133715  0.21592342 0.21851726 0.22115366\n",
      " 0.22383325 0.22655665 0.22932446 0.23213729 0.23499572 0.23790034\n",
      " 0.24085171 0.24385037 0.24689685 0.24999164 0.25313523 0.25632805\n",
      " 0.25957054 0.26286307 0.26620599 0.26959961 0.27304417 0.2765399\n",
      " 0.28008696 0.28368544 0.28733539 0.29103679 0.29478954 0.29859347\n",
      " 0.30244834 0.30635382 0.31030949 0.31431484 0.31836926 0.32247203\n",
      " 0.32662234 0.33081926 0.33506173 0.33934859 0.34367855 0.3480502\n",
      " 0.35246197 0.35691219 0.36139905 0.36592058 0.37047471 0.3750592\n",
      " 0.37967168 0.38430965 0.38897049 0.39365141 0.39834953 0.40306183\n",
      " 0.40778517 0.4125163  0.41725187 0.42198843 0.42672244 0.43145028\n",
      " 0.43616826 0.44087264 0.44555962 0.45022537 0.45486604 0.45947776\n",
      " 0.46405665 0.46859887 0.47310056 0.47755794 0.48196724 0.48632477\n",
      " 0.49062689 0.49487005 0.49905077 0.50316569 0.50721152]\n"
     ]
    },
    {
     "data": {
      "image/png": "[encoded data removed]",
      "text/plain": [
       "<Figure size 1000x600 with 1 Axes>"
      ]
     },
     "metadata": {},
     "output_type": "display_data"
    },
    {
     "data": {
      "text/plain": [
       "array([1.13095432, 1.13166755, 1.13238866, 1.13311771, 1.13385478,\n",
       "       1.13459995, 1.13535329, 1.13611487, 1.13688476, 1.13766302,\n",
       "       1.13844971, 1.1392449 , 1.14004865, 1.140861  , 1.141682  ,\n",
       "       1.1425117 , 1.14335014, 1.14419735, 1.14505335, 1.14591818,\n",
       "       1.14679184, 1.14767435, 1.1485657 , 1.14946588, 1.15037489,\n",
       "       1.15129268, 1.15221923, 1.15315448, 1.15409837, 1.15505083,\n",
       "       1.15601178, 1.1569811 , 1.15795869, 1.1589444 , 1.15993809,\n",
       "       1.16093958, 1.16194869, 1.1629652 , 1.16398889, 1.16501948,\n",
       "       1.16605671, 1.16710026, 1.1681498 , 1.16920496, 1.17026535,\n",
       "       1.17133055, 1.17240009, 1.17347348, 1.17455019, 1.17562966,\n",
       "       1.17671127, 1.17779437, 1.17887829, 1.17996228, 1.18104558,\n",
       "       1.18212735, 1.18320672, 1.18428279, 1.18535458, 1.18642108,\n",
       "       1.18748122, 1.18853389, 1.18957793, 1.1906121 , 1.19163516,\n",
       "       1.19264578, 1.19364261, 1.19462422, 1.19558916, 1.19653595,\n",
       "       1.19746302, 1.19836881, 1.1992517 , 1.20011004, 1.20094215,\n",
       "       1.20174635, 1.2025209 , 1.20326408, 1.20397414, 1.20464934,\n",
       "       1.20528792, 1.20588815, 1.20644831, 1.2069667 , 1.20744162,\n",
       "       1.20787145, 1.20825457, 1.20858942, 1.20887449, 1.20910833,\n",
       "       1.20928955, 1.20941683, 1.20948893, 1.20950467, 1.20946296,\n",
       "       1.20936281, 1.20920331, 1.20898362, 1.20870303, 1.20836091,\n",
       "       1.20795672])"
      ]
     },
     "execution_count": 88,
     "metadata": {},
     "output_type": "execute_result"
    }
   ],
   "source": [
    "economy = Udara_Peiris_economy()\n",
    "b_0 = economy.solve_for_roots()\n",
    "print(\"Solutions for b_0:\", b_0)\n",
    "\n",
    "economy.plot_b0_vs_delta_b()\n"
   ]
  }
 ],
 "metadata": {
  "kernelspec": {
   "display_name": "cali_macro",
   "language": "python",
   "name": "python3"
  },
  "language_info": {
   "codemirror_mode": {
    "name": "ipython",
    "version": 3
   },
   "file_extension": ".py",
   "mimetype": "text/x-python",
   "name": "python",
   "nbconvert_exporter": "python",
   "pygments_lexer": "ipython3",
   "version": "3.12.7"
  }
 },
 "nbformat": 4,
 "nbformat_minor": 2
}
